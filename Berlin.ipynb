{
 "metadata": {
  "language_info": {
   "codemirror_mode": {
    "name": "ipython",
    "version": 3
   },
   "file_extension": ".py",
   "mimetype": "text/x-python",
   "name": "python",
   "nbconvert_exporter": "python",
   "pygments_lexer": "ipython3",
   "version": "3.7.4-final"
  },
  "orig_nbformat": 2,
  "kernelspec": {
   "name": "python_defaultSpec_1597501920725",
   "display_name": "Python 3.7.4 64-bit ('base': conda)"
  }
 },
 "nbformat": 4,
 "nbformat_minor": 2,
 "cells": [
  {
   "cell_type": "code",
   "execution_count": 1,
   "metadata": {},
   "outputs": [],
   "source": [
    "import pandas as pd"
   ]
  },
  {
   "cell_type": "code",
   "execution_count": 2,
   "metadata": {},
   "outputs": [
    {
     "output_type": "execute_result",
     "data": {
      "text/plain": "        Date    id                                              name  host_id  \\\n0 2018-05-14  2015  Berlin-Mitte Value! Quiet courtyard/very central     2217   \n1 2018-05-14  2776     Quiet and sunny, 3min to subway, direct Tegel     3091   \n2 2018-05-14  3176                   Fabulous Flat in great Location     3718   \n3 2018-05-14  3309                BerlinSpot SchÃ¶neberg near KaDeWe     4108   \n4 2018-05-14  7071                  BrightRoom with sunny greenview!    17391   \n\n  host_name      neighbourhood_group             neighbourhood   latitude  \\\n0       Jan                    Mitte          Brunnenstr. SÃ¼d  52.534537   \n1     Laura                    Mitte           Wedding Zentrum  52.552818   \n2    Britta                   Pankow  Prenzlauer Berg SÃ¼dwest  52.534996   \n3      Jana  Tempelhof - SchÃ¶neberg          SchÃ¶neberg-Nord  52.498855   \n4    Bright                   Pankow            Helmholtzplatz  52.543157   \n\n   longitude        room_type  price  minimum_nights  number_of_reviews  \\\n0  13.402557  Entire home/apt     60               5                 98   \n1  13.374060     Private room     55               3                 36   \n2  13.417579  Entire home/apt     90              62                143   \n3  13.349065     Private room     26               5                 23   \n4  13.415091     Private room     47               2                169   \n\n  last_review  reviews_per_month  calculated_host_listings_count  \\\n0  2018-04-10               3.84                               4   \n1  2017-09-24               0.33                               1   \n2  2017-03-20               1.32                               1   \n3  2017-11-20               0.40                               1   \n4  2018-05-01               1.59                               1   \n\n   availability_365  \n0               161  \n1                88  \n2               304  \n3               297  \n4                24  ",
      "text/html": "<div>\n<style scoped>\n    .dataframe tbody tr th:only-of-type {\n        vertical-align: middle;\n    }\n\n    .dataframe tbody tr th {\n        vertical-align: top;\n    }\n\n    .dataframe thead th {\n        text-align: right;\n    }\n</style>\n<table border=\"1\" class=\"dataframe\">\n  <thead>\n    <tr style=\"text-align: right;\">\n      <th></th>\n      <th>Date</th>\n      <th>id</th>\n      <th>name</th>\n      <th>host_id</th>\n      <th>host_name</th>\n      <th>neighbourhood_group</th>\n      <th>neighbourhood</th>\n      <th>latitude</th>\n      <th>longitude</th>\n      <th>room_type</th>\n      <th>price</th>\n      <th>minimum_nights</th>\n      <th>number_of_reviews</th>\n      <th>last_review</th>\n      <th>reviews_per_month</th>\n      <th>calculated_host_listings_count</th>\n      <th>availability_365</th>\n    </tr>\n  </thead>\n  <tbody>\n    <tr>\n      <td>0</td>\n      <td>2018-05-14</td>\n      <td>2015</td>\n      <td>Berlin-Mitte Value! Quiet courtyard/very central</td>\n      <td>2217</td>\n      <td>Jan</td>\n      <td>Mitte</td>\n      <td>Brunnenstr. SÃ¼d</td>\n      <td>52.534537</td>\n      <td>13.402557</td>\n      <td>Entire home/apt</td>\n      <td>60</td>\n      <td>5</td>\n      <td>98</td>\n      <td>2018-04-10</td>\n      <td>3.84</td>\n      <td>4</td>\n      <td>161</td>\n    </tr>\n    <tr>\n      <td>1</td>\n      <td>2018-05-14</td>\n      <td>2776</td>\n      <td>Quiet and sunny, 3min to subway, direct Tegel</td>\n      <td>3091</td>\n      <td>Laura</td>\n      <td>Mitte</td>\n      <td>Wedding Zentrum</td>\n      <td>52.552818</td>\n      <td>13.374060</td>\n      <td>Private room</td>\n      <td>55</td>\n      <td>3</td>\n      <td>36</td>\n      <td>2017-09-24</td>\n      <td>0.33</td>\n      <td>1</td>\n      <td>88</td>\n    </tr>\n    <tr>\n      <td>2</td>\n      <td>2018-05-14</td>\n      <td>3176</td>\n      <td>Fabulous Flat in great Location</td>\n      <td>3718</td>\n      <td>Britta</td>\n      <td>Pankow</td>\n      <td>Prenzlauer Berg SÃ¼dwest</td>\n      <td>52.534996</td>\n      <td>13.417579</td>\n      <td>Entire home/apt</td>\n      <td>90</td>\n      <td>62</td>\n      <td>143</td>\n      <td>2017-03-20</td>\n      <td>1.32</td>\n      <td>1</td>\n      <td>304</td>\n    </tr>\n    <tr>\n      <td>3</td>\n      <td>2018-05-14</td>\n      <td>3309</td>\n      <td>BerlinSpot SchÃ¶neberg near KaDeWe</td>\n      <td>4108</td>\n      <td>Jana</td>\n      <td>Tempelhof - SchÃ¶neberg</td>\n      <td>SchÃ¶neberg-Nord</td>\n      <td>52.498855</td>\n      <td>13.349065</td>\n      <td>Private room</td>\n      <td>26</td>\n      <td>5</td>\n      <td>23</td>\n      <td>2017-11-20</td>\n      <td>0.40</td>\n      <td>1</td>\n      <td>297</td>\n    </tr>\n    <tr>\n      <td>4</td>\n      <td>2018-05-14</td>\n      <td>7071</td>\n      <td>BrightRoom with sunny greenview!</td>\n      <td>17391</td>\n      <td>Bright</td>\n      <td>Pankow</td>\n      <td>Helmholtzplatz</td>\n      <td>52.543157</td>\n      <td>13.415091</td>\n      <td>Private room</td>\n      <td>47</td>\n      <td>2</td>\n      <td>169</td>\n      <td>2018-05-01</td>\n      <td>1.59</td>\n      <td>1</td>\n      <td>24</td>\n    </tr>\n  </tbody>\n</table>\n</div>"
     },
     "metadata": {},
     "execution_count": 2
    }
   ],
   "source": [
    "file = \"../Berlin_May 2018-May 2019.xlsx\"\n",
    "Berlin18_19_df = pd.read_excel(file)\n",
    "\n",
    "Berlin18_19_df.head()"
   ]
  },
  {
   "cell_type": "code",
   "execution_count": 3,
   "metadata": {
    "tags": []
   },
   "outputs": [
    {
     "output_type": "stream",
     "name": "stdout",
     "text": "<class 'pandas.core.frame.DataFrame'>\nRangeIndex: 310045 entries, 0 to 310044\nData columns (total 10 columns):\nDate                              310045 non-null datetime64[ns]\nid                                310045 non-null int64\nhost_id                           310045 non-null int64\nneighbourhood                     310045 non-null object\nlatitude                          310045 non-null float64\nlongitude                         310045 non-null float64\nroom_type                         310045 non-null object\nprice                             310045 non-null int64\nminimum_nights                    310045 non-null int64\ncalculated_host_listings_count    310045 non-null int64\ndtypes: datetime64[ns](1), float64(2), int64(5), object(2)\nmemory usage: 23.7+ MB\n"
    }
   ],
   "source": [
    "Berlin18_19_df = Berlin18_19_df.drop(columns=['name', 'host_name', 'neighbourhood_group', 'number_of_reviews', 'last_review', 'reviews_per_month', 'availability_365'])\n",
    "\n",
    "Berlin18_19_df.info()"
   ]
  },
  {
   "cell_type": "code",
   "execution_count": 4,
   "metadata": {},
   "outputs": [
    {
     "output_type": "execute_result",
     "data": {
      "text/plain": "        Date    id  host_id             neighbourhood   latitude  longitude  \\\n0 2018-05-14  2015     2217          Brunnenstr. SÃ¼d  52.534537  13.402557   \n1 2018-05-14  2776     3091           Wedding Zentrum  52.552818  13.374060   \n2 2018-05-14  3176     3718  Prenzlauer Berg SÃ¼dwest  52.534996  13.417579   \n3 2018-05-14  3309     4108          SchÃ¶neberg-Nord  52.498855  13.349065   \n4 2018-05-14  7071    17391            Helmholtzplatz  52.543157  13.415091   \n\n         room_type  price  minimum_nights  calculated_host_listings_count  \n0  Entire home/apt     60               5                               4  \n1     Private room     55               3                               1  \n2  Entire home/apt     90              62                               1  \n3     Private room     26               5                               1  \n4     Private room     47               2                               1  ",
      "text/html": "<div>\n<style scoped>\n    .dataframe tbody tr th:only-of-type {\n        vertical-align: middle;\n    }\n\n    .dataframe tbody tr th {\n        vertical-align: top;\n    }\n\n    .dataframe thead th {\n        text-align: right;\n    }\n</style>\n<table border=\"1\" class=\"dataframe\">\n  <thead>\n    <tr style=\"text-align: right;\">\n      <th></th>\n      <th>Date</th>\n      <th>id</th>\n      <th>host_id</th>\n      <th>neighbourhood</th>\n      <th>latitude</th>\n      <th>longitude</th>\n      <th>room_type</th>\n      <th>price</th>\n      <th>minimum_nights</th>\n      <th>calculated_host_listings_count</th>\n    </tr>\n  </thead>\n  <tbody>\n    <tr>\n      <td>0</td>\n      <td>2018-05-14</td>\n      <td>2015</td>\n      <td>2217</td>\n      <td>Brunnenstr. SÃ¼d</td>\n      <td>52.534537</td>\n      <td>13.402557</td>\n      <td>Entire home/apt</td>\n      <td>60</td>\n      <td>5</td>\n      <td>4</td>\n    </tr>\n    <tr>\n      <td>1</td>\n      <td>2018-05-14</td>\n      <td>2776</td>\n      <td>3091</td>\n      <td>Wedding Zentrum</td>\n      <td>52.552818</td>\n      <td>13.374060</td>\n      <td>Private room</td>\n      <td>55</td>\n      <td>3</td>\n      <td>1</td>\n    </tr>\n    <tr>\n      <td>2</td>\n      <td>2018-05-14</td>\n      <td>3176</td>\n      <td>3718</td>\n      <td>Prenzlauer Berg SÃ¼dwest</td>\n      <td>52.534996</td>\n      <td>13.417579</td>\n      <td>Entire home/apt</td>\n      <td>90</td>\n      <td>62</td>\n      <td>1</td>\n    </tr>\n    <tr>\n      <td>3</td>\n      <td>2018-05-14</td>\n      <td>3309</td>\n      <td>4108</td>\n      <td>SchÃ¶neberg-Nord</td>\n      <td>52.498855</td>\n      <td>13.349065</td>\n      <td>Private room</td>\n      <td>26</td>\n      <td>5</td>\n      <td>1</td>\n    </tr>\n    <tr>\n      <td>4</td>\n      <td>2018-05-14</td>\n      <td>7071</td>\n      <td>17391</td>\n      <td>Helmholtzplatz</td>\n      <td>52.543157</td>\n      <td>13.415091</td>\n      <td>Private room</td>\n      <td>47</td>\n      <td>2</td>\n      <td>1</td>\n    </tr>\n  </tbody>\n</table>\n</div>"
     },
     "metadata": {},
     "execution_count": 4
    }
   ],
   "source": [
    "Berlin18_19_df.head()"
   ]
  },
  {
   "cell_type": "code",
   "execution_count": 5,
   "metadata": {},
   "outputs": [
    {
     "output_type": "execute_result",
     "data": {
      "text/plain": "        Date    id  host_id             neighbourhood   latitude  longitude  \\\n0 2018-05-14  2015     2217          Brunnenstr. SÃ¼d  52.534537  13.402557   \n1 2018-05-14  2776     3091           Wedding Zentrum  52.552818  13.374060   \n2 2018-05-14  3176     3718  Prenzlauer Berg SÃ¼dwest  52.534996  13.417579   \n3 2018-05-14  3309     4108          SchÃ¶neberg-Nord  52.498855  13.349065   \n4 2018-05-14  7071    17391            Helmholtzplatz  52.543157  13.415091   \n\n         room_type  price  minimum_nights  calculated_host_listings_count  \n0  Entire home/apt     60               5                               4  \n1     Private room     55               3                               1  \n2  Entire home/apt     90              62                               1  \n3     Private room     26               5                               1  \n4     Private room     47               2                               1  ",
      "text/html": "<div>\n<style scoped>\n    .dataframe tbody tr th:only-of-type {\n        vertical-align: middle;\n    }\n\n    .dataframe tbody tr th {\n        vertical-align: top;\n    }\n\n    .dataframe thead th {\n        text-align: right;\n    }\n</style>\n<table border=\"1\" class=\"dataframe\">\n  <thead>\n    <tr style=\"text-align: right;\">\n      <th></th>\n      <th>Date</th>\n      <th>id</th>\n      <th>host_id</th>\n      <th>neighbourhood</th>\n      <th>latitude</th>\n      <th>longitude</th>\n      <th>room_type</th>\n      <th>price</th>\n      <th>minimum_nights</th>\n      <th>calculated_host_listings_count</th>\n    </tr>\n  </thead>\n  <tbody>\n    <tr>\n      <td>0</td>\n      <td>2018-05-14</td>\n      <td>2015</td>\n      <td>2217</td>\n      <td>Brunnenstr. SÃ¼d</td>\n      <td>52.534537</td>\n      <td>13.402557</td>\n      <td>Entire home/apt</td>\n      <td>60</td>\n      <td>5</td>\n      <td>4</td>\n    </tr>\n    <tr>\n      <td>1</td>\n      <td>2018-05-14</td>\n      <td>2776</td>\n      <td>3091</td>\n      <td>Wedding Zentrum</td>\n      <td>52.552818</td>\n      <td>13.374060</td>\n      <td>Private room</td>\n      <td>55</td>\n      <td>3</td>\n      <td>1</td>\n    </tr>\n    <tr>\n      <td>2</td>\n      <td>2018-05-14</td>\n      <td>3176</td>\n      <td>3718</td>\n      <td>Prenzlauer Berg SÃ¼dwest</td>\n      <td>52.534996</td>\n      <td>13.417579</td>\n      <td>Entire home/apt</td>\n      <td>90</td>\n      <td>62</td>\n      <td>1</td>\n    </tr>\n    <tr>\n      <td>3</td>\n      <td>2018-05-14</td>\n      <td>3309</td>\n      <td>4108</td>\n      <td>SchÃ¶neberg-Nord</td>\n      <td>52.498855</td>\n      <td>13.349065</td>\n      <td>Private room</td>\n      <td>26</td>\n      <td>5</td>\n      <td>1</td>\n    </tr>\n    <tr>\n      <td>4</td>\n      <td>2018-05-14</td>\n      <td>7071</td>\n      <td>17391</td>\n      <td>Helmholtzplatz</td>\n      <td>52.543157</td>\n      <td>13.415091</td>\n      <td>Private room</td>\n      <td>47</td>\n      <td>2</td>\n      <td>1</td>\n    </tr>\n  </tbody>\n</table>\n</div>"
     },
     "metadata": {},
     "execution_count": 5
    }
   ],
   "source": [
    "Berlin18_19_df = Berlin18_19_df[ ['Date'] + [ col for col in Berlin18_19_df.columns if col != 'Date' ] ]\n",
    "\n",
    "Berlin18_19_df.head()"
   ]
  },
  {
   "cell_type": "code",
   "execution_count": 6,
   "metadata": {},
   "outputs": [
    {
     "output_type": "execute_result",
     "data": {
      "text/plain": "        Date  Listing id  host_id             neighbourhood  latitude  \\\n0 2019-06-08        1944     2164          Brunnenstr. Nord  52.54425   \n1 2019-06-08        2015     2217          Brunnenstr. SÃ¼d  52.53454   \n2 2019-06-08        2695     2986  Prenzlauer Berg Nordwest  52.54851   \n3 2019-06-08        3176     3718  Prenzlauer Berg SÃ¼dwest  52.53500   \n4 2019-06-08        3309     4108          SchÃ¶neberg-Nord  52.49885   \n\n   longitude        room_type  price  minimum_nights  \\\n0   13.39749     Private room     21             120   \n1   13.40256  Entire home/apt     60               4   \n2   13.40455     Private room     17               2   \n3   13.41758  Entire home/apt     90              62   \n4   13.34906     Private room     28               7   \n\n   calculated_host_listings_count  \n0                               1  \n1                               5  \n2                               1  \n3                               1  \n4                               1  ",
      "text/html": "<div>\n<style scoped>\n    .dataframe tbody tr th:only-of-type {\n        vertical-align: middle;\n    }\n\n    .dataframe tbody tr th {\n        vertical-align: top;\n    }\n\n    .dataframe thead th {\n        text-align: right;\n    }\n</style>\n<table border=\"1\" class=\"dataframe\">\n  <thead>\n    <tr style=\"text-align: right;\">\n      <th></th>\n      <th>Date</th>\n      <th>Listing id</th>\n      <th>host_id</th>\n      <th>neighbourhood</th>\n      <th>latitude</th>\n      <th>longitude</th>\n      <th>room_type</th>\n      <th>price</th>\n      <th>minimum_nights</th>\n      <th>calculated_host_listings_count</th>\n    </tr>\n  </thead>\n  <tbody>\n    <tr>\n      <td>0</td>\n      <td>2019-06-08</td>\n      <td>1944</td>\n      <td>2164</td>\n      <td>Brunnenstr. Nord</td>\n      <td>52.54425</td>\n      <td>13.39749</td>\n      <td>Private room</td>\n      <td>21</td>\n      <td>120</td>\n      <td>1</td>\n    </tr>\n    <tr>\n      <td>1</td>\n      <td>2019-06-08</td>\n      <td>2015</td>\n      <td>2217</td>\n      <td>Brunnenstr. SÃ¼d</td>\n      <td>52.53454</td>\n      <td>13.40256</td>\n      <td>Entire home/apt</td>\n      <td>60</td>\n      <td>4</td>\n      <td>5</td>\n    </tr>\n    <tr>\n      <td>2</td>\n      <td>2019-06-08</td>\n      <td>2695</td>\n      <td>2986</td>\n      <td>Prenzlauer Berg Nordwest</td>\n      <td>52.54851</td>\n      <td>13.40455</td>\n      <td>Private room</td>\n      <td>17</td>\n      <td>2</td>\n      <td>1</td>\n    </tr>\n    <tr>\n      <td>3</td>\n      <td>2019-06-08</td>\n      <td>3176</td>\n      <td>3718</td>\n      <td>Prenzlauer Berg SÃ¼dwest</td>\n      <td>52.53500</td>\n      <td>13.41758</td>\n      <td>Entire home/apt</td>\n      <td>90</td>\n      <td>62</td>\n      <td>1</td>\n    </tr>\n    <tr>\n      <td>4</td>\n      <td>2019-06-08</td>\n      <td>3309</td>\n      <td>4108</td>\n      <td>SchÃ¶neberg-Nord</td>\n      <td>52.49885</td>\n      <td>13.34906</td>\n      <td>Private room</td>\n      <td>28</td>\n      <td>7</td>\n      <td>1</td>\n    </tr>\n  </tbody>\n</table>\n</div>"
     },
     "metadata": {},
     "execution_count": 6
    }
   ],
   "source": [
    "Berlin19_20_df = pd.read_excel(\"../Berlin_June 2019-May 2020.xlsx\")\n",
    "\n",
    "Berlin19_20_df = Berlin19_20_df.drop(columns=['name', 'host_name', 'neighbourhood_group', 'number_of_reviews', 'last_review', 'reviews_per_month', 'availability_365'])\n",
    "\n",
    "Berlin19_20_df = Berlin19_20_df[ ['Date'] + [ col for col in Berlin19_20_df.columns if col != 'Date' ] ]\n",
    "\n",
    "Berlin19_20_df.head()"
   ]
  },
  {
   "cell_type": "code",
   "execution_count": 7,
   "metadata": {},
   "outputs": [],
   "source": [
    "Berlin18_19_df.to_csv('Berlin.May18_May19-2.csv')"
   ]
  },
  {
   "cell_type": "code",
   "execution_count": 8,
   "metadata": {},
   "outputs": [],
   "source": [
    "Berlin19_20_df.to_csv('Berlin.June19_May20-2.csv')"
   ]
  },
  {
   "cell_type": "code",
   "execution_count": 13,
   "metadata": {},
   "outputs": [],
   "source": [
    "combined_df = [Berlin18_19_df, Berlin19_20_df]\n"
   ]
  },
  {
   "cell_type": "code",
   "execution_count": 14,
   "metadata": {},
   "outputs": [
    {
     "output_type": "execute_result",
     "data": {
      "text/plain": "        Date  Listing id  calculated_host_listings_count  host_id      id  \\\n0 2018-05-14         NaN                               4     2217  2015.0   \n1 2018-05-14         NaN                               1     3091  2776.0   \n2 2018-05-14         NaN                               1     3718  3176.0   \n3 2018-05-14         NaN                               1     4108  3309.0   \n4 2018-05-14         NaN                               1    17391  7071.0   \n\n    latitude  longitude  minimum_nights             neighbourhood  price  \\\n0  52.534537  13.402557               5          Brunnenstr. SÃ¼d     60   \n1  52.552818  13.374060               3           Wedding Zentrum     55   \n2  52.534996  13.417579              62  Prenzlauer Berg SÃ¼dwest     90   \n3  52.498855  13.349065               5          SchÃ¶neberg-Nord     26   \n4  52.543157  13.415091               2            Helmholtzplatz     47   \n\n         room_type  \n0  Entire home/apt  \n1     Private room  \n2  Entire home/apt  \n3     Private room  \n4     Private room  ",
      "text/html": "<div>\n<style scoped>\n    .dataframe tbody tr th:only-of-type {\n        vertical-align: middle;\n    }\n\n    .dataframe tbody tr th {\n        vertical-align: top;\n    }\n\n    .dataframe thead th {\n        text-align: right;\n    }\n</style>\n<table border=\"1\" class=\"dataframe\">\n  <thead>\n    <tr style=\"text-align: right;\">\n      <th></th>\n      <th>Date</th>\n      <th>Listing id</th>\n      <th>calculated_host_listings_count</th>\n      <th>host_id</th>\n      <th>id</th>\n      <th>latitude</th>\n      <th>longitude</th>\n      <th>minimum_nights</th>\n      <th>neighbourhood</th>\n      <th>price</th>\n      <th>room_type</th>\n    </tr>\n  </thead>\n  <tbody>\n    <tr>\n      <td>0</td>\n      <td>2018-05-14</td>\n      <td>NaN</td>\n      <td>4</td>\n      <td>2217</td>\n      <td>2015.0</td>\n      <td>52.534537</td>\n      <td>13.402557</td>\n      <td>5</td>\n      <td>Brunnenstr. SÃ¼d</td>\n      <td>60</td>\n      <td>Entire home/apt</td>\n    </tr>\n    <tr>\n      <td>1</td>\n      <td>2018-05-14</td>\n      <td>NaN</td>\n      <td>1</td>\n      <td>3091</td>\n      <td>2776.0</td>\n      <td>52.552818</td>\n      <td>13.374060</td>\n      <td>3</td>\n      <td>Wedding Zentrum</td>\n      <td>55</td>\n      <td>Private room</td>\n    </tr>\n    <tr>\n      <td>2</td>\n      <td>2018-05-14</td>\n      <td>NaN</td>\n      <td>1</td>\n      <td>3718</td>\n      <td>3176.0</td>\n      <td>52.534996</td>\n      <td>13.417579</td>\n      <td>62</td>\n      <td>Prenzlauer Berg SÃ¼dwest</td>\n      <td>90</td>\n      <td>Entire home/apt</td>\n    </tr>\n    <tr>\n      <td>3</td>\n      <td>2018-05-14</td>\n      <td>NaN</td>\n      <td>1</td>\n      <td>4108</td>\n      <td>3309.0</td>\n      <td>52.498855</td>\n      <td>13.349065</td>\n      <td>5</td>\n      <td>SchÃ¶neberg-Nord</td>\n      <td>26</td>\n      <td>Private room</td>\n    </tr>\n    <tr>\n      <td>4</td>\n      <td>2018-05-14</td>\n      <td>NaN</td>\n      <td>1</td>\n      <td>17391</td>\n      <td>7071.0</td>\n      <td>52.543157</td>\n      <td>13.415091</td>\n      <td>2</td>\n      <td>Helmholtzplatz</td>\n      <td>47</td>\n      <td>Private room</td>\n    </tr>\n  </tbody>\n</table>\n</div>"
     },
     "metadata": {},
     "execution_count": 14
    }
   ],
   "source": [
    "BerlinAll_df = pd.concat(combined_df)\n",
    "\n",
    "BerlinAll_df.head()"
   ]
  },
  {
   "cell_type": "code",
   "execution_count": 15,
   "metadata": {},
   "outputs": [
    {
     "output_type": "execute_result",
     "data": {
      "text/plain": "             Date  Listing id  calculated_host_listings_count    host_id  id  \\\n296567 2020-05-14  43422635.0                               1   31667990 NaN   \n296568 2020-05-14  43430815.0                               1  346167573 NaN   \n296569 2020-05-14  43432267.0                               2     856367 NaN   \n296570 2020-05-14  43436282.0                               1  226803356 NaN   \n296571 2020-05-14  43438755.0                               5   46357364 NaN   \n\n        latitude  longitude  minimum_nights           neighbourhood  price  \\\n296567  52.50169   13.43058               1  nÃ¶rdliche Luisenstadt     65   \n296568  52.54527   13.20534               1           Spandau Mitte     35   \n296569  52.48207   13.46962               1            PlÃ¤nterwald     40   \n296570  52.45836   13.58493               1            Dammvorstadt     46   \n296571  52.51203   13.40872               5          Alexanderplatz     76   \n\n              room_type  \n296567  Entire home/apt  \n296568     Private room  \n296569     Private room  \n296570     Private room  \n296571  Entire home/apt  ",
      "text/html": "<div>\n<style scoped>\n    .dataframe tbody tr th:only-of-type {\n        vertical-align: middle;\n    }\n\n    .dataframe tbody tr th {\n        vertical-align: top;\n    }\n\n    .dataframe thead th {\n        text-align: right;\n    }\n</style>\n<table border=\"1\" class=\"dataframe\">\n  <thead>\n    <tr style=\"text-align: right;\">\n      <th></th>\n      <th>Date</th>\n      <th>Listing id</th>\n      <th>calculated_host_listings_count</th>\n      <th>host_id</th>\n      <th>id</th>\n      <th>latitude</th>\n      <th>longitude</th>\n      <th>minimum_nights</th>\n      <th>neighbourhood</th>\n      <th>price</th>\n      <th>room_type</th>\n    </tr>\n  </thead>\n  <tbody>\n    <tr>\n      <td>296567</td>\n      <td>2020-05-14</td>\n      <td>43422635.0</td>\n      <td>1</td>\n      <td>31667990</td>\n      <td>NaN</td>\n      <td>52.50169</td>\n      <td>13.43058</td>\n      <td>1</td>\n      <td>nÃ¶rdliche Luisenstadt</td>\n      <td>65</td>\n      <td>Entire home/apt</td>\n    </tr>\n    <tr>\n      <td>296568</td>\n      <td>2020-05-14</td>\n      <td>43430815.0</td>\n      <td>1</td>\n      <td>346167573</td>\n      <td>NaN</td>\n      <td>52.54527</td>\n      <td>13.20534</td>\n      <td>1</td>\n      <td>Spandau Mitte</td>\n      <td>35</td>\n      <td>Private room</td>\n    </tr>\n    <tr>\n      <td>296569</td>\n      <td>2020-05-14</td>\n      <td>43432267.0</td>\n      <td>2</td>\n      <td>856367</td>\n      <td>NaN</td>\n      <td>52.48207</td>\n      <td>13.46962</td>\n      <td>1</td>\n      <td>PlÃ¤nterwald</td>\n      <td>40</td>\n      <td>Private room</td>\n    </tr>\n    <tr>\n      <td>296570</td>\n      <td>2020-05-14</td>\n      <td>43436282.0</td>\n      <td>1</td>\n      <td>226803356</td>\n      <td>NaN</td>\n      <td>52.45836</td>\n      <td>13.58493</td>\n      <td>1</td>\n      <td>Dammvorstadt</td>\n      <td>46</td>\n      <td>Private room</td>\n    </tr>\n    <tr>\n      <td>296571</td>\n      <td>2020-05-14</td>\n      <td>43438755.0</td>\n      <td>5</td>\n      <td>46357364</td>\n      <td>NaN</td>\n      <td>52.51203</td>\n      <td>13.40872</td>\n      <td>5</td>\n      <td>Alexanderplatz</td>\n      <td>76</td>\n      <td>Entire home/apt</td>\n    </tr>\n  </tbody>\n</table>\n</div>"
     },
     "metadata": {},
     "execution_count": 15
    }
   ],
   "source": [
    "BerlinAll_df.tail()"
   ]
  },
  {
   "cell_type": "code",
   "execution_count": 16,
   "metadata": {},
   "outputs": [],
   "source": [
    "BerlinAll_df.to_csv('Berlin_All.csv')"
   ]
  },
  {
   "cell_type": "code",
   "execution_count": null,
   "metadata": {},
   "outputs": [],
   "source": []
  }
 ]
}