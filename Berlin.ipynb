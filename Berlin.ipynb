{
 "metadata": {
  "language_info": {
   "codemirror_mode": {
    "name": "ipython",
    "version": 3
   },
   "file_extension": ".py",
   "mimetype": "text/x-python",
   "name": "python",
   "nbconvert_exporter": "python",
   "pygments_lexer": "ipython3",
   "version": "3.7.4-final"
  },
  "orig_nbformat": 2,
  "kernelspec": {
   "name": "python_defaultSpec_1597479658618",
   "display_name": "Python 3.7.4 64-bit ('base': conda)"
  }
 },
 "nbformat": 4,
 "nbformat_minor": 2,
 "cells": [
  {
   "cell_type": "code",
   "execution_count": 13,
   "metadata": {},
   "outputs": [],
   "source": [
    "import pandas as pd"
   ]
  },
  {
   "cell_type": "code",
   "execution_count": 15,
   "metadata": {},
   "outputs": [
    {
     "output_type": "execute_result",
     "data": {
      "text/plain": "        Date    id                                              name  host_id  \\\n0 2018-05-14  2015  Berlin-Mitte Value! Quiet courtyard/very central     2217   \n1 2018-05-14  2776     Quiet and sunny, 3min to subway, direct Tegel     3091   \n2 2018-05-14  3176                   Fabulous Flat in great Location     3718   \n3 2018-05-14  3309                BerlinSpot SchÃ¶neberg near KaDeWe     4108   \n4 2018-05-14  7071                  BrightRoom with sunny greenview!    17391   \n\n  host_name      neighbourhood_group             neighbourhood   latitude  \\\n0       Jan                    Mitte          Brunnenstr. SÃ¼d  52.534537   \n1     Laura                    Mitte           Wedding Zentrum  52.552818   \n2    Britta                   Pankow  Prenzlauer Berg SÃ¼dwest  52.534996   \n3      Jana  Tempelhof - SchÃ¶neberg          SchÃ¶neberg-Nord  52.498855   \n4    Bright                   Pankow            Helmholtzplatz  52.543157   \n\n   longitude        room_type  price  minimum_nights  number_of_reviews  \\\n0  13.402557  Entire home/apt     60               5                 98   \n1  13.374060     Private room     55               3                 36   \n2  13.417579  Entire home/apt     90              62                143   \n3  13.349065     Private room     26               5                 23   \n4  13.415091     Private room     47               2                169   \n\n  last_review  reviews_per_month  calculated_host_listings_count  \\\n0  2018-04-10               3.84                               4   \n1  2017-09-24               0.33                               1   \n2  2017-03-20               1.32                               1   \n3  2017-11-20               0.40                               1   \n4  2018-05-01               1.59                               1   \n\n   availability_365  \n0               161  \n1                88  \n2               304  \n3               297  \n4                24  ",
      "text/html": "<div>\n<style scoped>\n    .dataframe tbody tr th:only-of-type {\n        vertical-align: middle;\n    }\n\n    .dataframe tbody tr th {\n        vertical-align: top;\n    }\n\n    .dataframe thead th {\n        text-align: right;\n    }\n</style>\n<table border=\"1\" class=\"dataframe\">\n  <thead>\n    <tr style=\"text-align: right;\">\n      <th></th>\n      <th>Date</th>\n      <th>id</th>\n      <th>name</th>\n      <th>host_id</th>\n      <th>host_name</th>\n      <th>neighbourhood_group</th>\n      <th>neighbourhood</th>\n      <th>latitude</th>\n      <th>longitude</th>\n      <th>room_type</th>\n      <th>price</th>\n      <th>minimum_nights</th>\n      <th>number_of_reviews</th>\n      <th>last_review</th>\n      <th>reviews_per_month</th>\n      <th>calculated_host_listings_count</th>\n      <th>availability_365</th>\n    </tr>\n  </thead>\n  <tbody>\n    <tr>\n      <td>0</td>\n      <td>2018-05-14</td>\n      <td>2015</td>\n      <td>Berlin-Mitte Value! Quiet courtyard/very central</td>\n      <td>2217</td>\n      <td>Jan</td>\n      <td>Mitte</td>\n      <td>Brunnenstr. SÃ¼d</td>\n      <td>52.534537</td>\n      <td>13.402557</td>\n      <td>Entire home/apt</td>\n      <td>60</td>\n      <td>5</td>\n      <td>98</td>\n      <td>2018-04-10</td>\n      <td>3.84</td>\n      <td>4</td>\n      <td>161</td>\n    </tr>\n    <tr>\n      <td>1</td>\n      <td>2018-05-14</td>\n      <td>2776</td>\n      <td>Quiet and sunny, 3min to subway, direct Tegel</td>\n      <td>3091</td>\n      <td>Laura</td>\n      <td>Mitte</td>\n      <td>Wedding Zentrum</td>\n      <td>52.552818</td>\n      <td>13.374060</td>\n      <td>Private room</td>\n      <td>55</td>\n      <td>3</td>\n      <td>36</td>\n      <td>2017-09-24</td>\n      <td>0.33</td>\n      <td>1</td>\n      <td>88</td>\n    </tr>\n    <tr>\n      <td>2</td>\n      <td>2018-05-14</td>\n      <td>3176</td>\n      <td>Fabulous Flat in great Location</td>\n      <td>3718</td>\n      <td>Britta</td>\n      <td>Pankow</td>\n      <td>Prenzlauer Berg SÃ¼dwest</td>\n      <td>52.534996</td>\n      <td>13.417579</td>\n      <td>Entire home/apt</td>\n      <td>90</td>\n      <td>62</td>\n      <td>143</td>\n      <td>2017-03-20</td>\n      <td>1.32</td>\n      <td>1</td>\n      <td>304</td>\n    </tr>\n    <tr>\n      <td>3</td>\n      <td>2018-05-14</td>\n      <td>3309</td>\n      <td>BerlinSpot SchÃ¶neberg near KaDeWe</td>\n      <td>4108</td>\n      <td>Jana</td>\n      <td>Tempelhof - SchÃ¶neberg</td>\n      <td>SchÃ¶neberg-Nord</td>\n      <td>52.498855</td>\n      <td>13.349065</td>\n      <td>Private room</td>\n      <td>26</td>\n      <td>5</td>\n      <td>23</td>\n      <td>2017-11-20</td>\n      <td>0.40</td>\n      <td>1</td>\n      <td>297</td>\n    </tr>\n    <tr>\n      <td>4</td>\n      <td>2018-05-14</td>\n      <td>7071</td>\n      <td>BrightRoom with sunny greenview!</td>\n      <td>17391</td>\n      <td>Bright</td>\n      <td>Pankow</td>\n      <td>Helmholtzplatz</td>\n      <td>52.543157</td>\n      <td>13.415091</td>\n      <td>Private room</td>\n      <td>47</td>\n      <td>2</td>\n      <td>169</td>\n      <td>2018-05-01</td>\n      <td>1.59</td>\n      <td>1</td>\n      <td>24</td>\n    </tr>\n  </tbody>\n</table>\n</div>"
     },
     "metadata": {},
     "execution_count": 15
    }
   ],
   "source": [
    "file = \"../Berlin_May 2018-May 2019.xlsx\"\n",
    "Berlin18_19_df = pd.read_excel(file)\n",
    "\n",
    "Berlin18_19_df.head()"
   ]
  },
  {
   "cell_type": "code",
   "execution_count": 16,
   "metadata": {
    "tags": []
   },
   "outputs": [
    {
     "output_type": "stream",
     "name": "stdout",
     "text": "<class 'pandas.core.frame.DataFrame'>\nRangeIndex: 310045 entries, 0 to 310044\nData columns (total 8 columns):\nDate                              310045 non-null datetime64[ns]\nid                                310045 non-null int64\nhost_id                           310045 non-null int64\nneighbourhood                     310045 non-null object\nroom_type                         310045 non-null object\nprice                             310045 non-null int64\nminimum_nights                    310045 non-null int64\ncalculated_host_listings_count    310045 non-null int64\ndtypes: datetime64[ns](1), int64(5), object(2)\nmemory usage: 18.9+ MB\n"
    }
   ],
   "source": [
    "Berlin18_19_df = Berlin18_19_df.drop(columns=['name', 'host_name', 'neighbourhood_group', 'latitude', 'longitude', 'number_of_reviews', 'last_review', 'reviews_per_month', 'availability_365'])\n",
    "\n",
    "Berlin18_19_df.info()"
   ]
  },
  {
   "cell_type": "code",
   "execution_count": 18,
   "metadata": {},
   "outputs": [
    {
     "output_type": "execute_result",
     "data": {
      "text/plain": "        Date    id  host_id             neighbourhood        room_type  price  \\\n0 2018-05-14  2015     2217          Brunnenstr. SÃ¼d  Entire home/apt     60   \n1 2018-05-14  2776     3091           Wedding Zentrum     Private room     55   \n2 2018-05-14  3176     3718  Prenzlauer Berg SÃ¼dwest  Entire home/apt     90   \n3 2018-05-14  3309     4108          SchÃ¶neberg-Nord     Private room     26   \n4 2018-05-14  7071    17391            Helmholtzplatz     Private room     47   \n\n   minimum_nights  calculated_host_listings_count  \n0               5                               4  \n1               3                               1  \n2              62                               1  \n3               5                               1  \n4               2                               1  ",
      "text/html": "<div>\n<style scoped>\n    .dataframe tbody tr th:only-of-type {\n        vertical-align: middle;\n    }\n\n    .dataframe tbody tr th {\n        vertical-align: top;\n    }\n\n    .dataframe thead th {\n        text-align: right;\n    }\n</style>\n<table border=\"1\" class=\"dataframe\">\n  <thead>\n    <tr style=\"text-align: right;\">\n      <th></th>\n      <th>Date</th>\n      <th>id</th>\n      <th>host_id</th>\n      <th>neighbourhood</th>\n      <th>room_type</th>\n      <th>price</th>\n      <th>minimum_nights</th>\n      <th>calculated_host_listings_count</th>\n    </tr>\n  </thead>\n  <tbody>\n    <tr>\n      <td>0</td>\n      <td>2018-05-14</td>\n      <td>2015</td>\n      <td>2217</td>\n      <td>Brunnenstr. SÃ¼d</td>\n      <td>Entire home/apt</td>\n      <td>60</td>\n      <td>5</td>\n      <td>4</td>\n    </tr>\n    <tr>\n      <td>1</td>\n      <td>2018-05-14</td>\n      <td>2776</td>\n      <td>3091</td>\n      <td>Wedding Zentrum</td>\n      <td>Private room</td>\n      <td>55</td>\n      <td>3</td>\n      <td>1</td>\n    </tr>\n    <tr>\n      <td>2</td>\n      <td>2018-05-14</td>\n      <td>3176</td>\n      <td>3718</td>\n      <td>Prenzlauer Berg SÃ¼dwest</td>\n      <td>Entire home/apt</td>\n      <td>90</td>\n      <td>62</td>\n      <td>1</td>\n    </tr>\n    <tr>\n      <td>3</td>\n      <td>2018-05-14</td>\n      <td>3309</td>\n      <td>4108</td>\n      <td>SchÃ¶neberg-Nord</td>\n      <td>Private room</td>\n      <td>26</td>\n      <td>5</td>\n      <td>1</td>\n    </tr>\n    <tr>\n      <td>4</td>\n      <td>2018-05-14</td>\n      <td>7071</td>\n      <td>17391</td>\n      <td>Helmholtzplatz</td>\n      <td>Private room</td>\n      <td>47</td>\n      <td>2</td>\n      <td>1</td>\n    </tr>\n  </tbody>\n</table>\n</div>"
     },
     "metadata": {},
     "execution_count": 18
    }
   ],
   "source": [
    "Berlin18_19_df.head()"
   ]
  },
  {
   "cell_type": "code",
   "execution_count": 20,
   "metadata": {},
   "outputs": [
    {
     "output_type": "execute_result",
     "data": {
      "text/plain": "        Date    id  host_id             neighbourhood        room_type  price  \\\n0 2018-05-14  2015     2217          Brunnenstr. SÃ¼d  Entire home/apt     60   \n1 2018-05-14  2776     3091           Wedding Zentrum     Private room     55   \n2 2018-05-14  3176     3718  Prenzlauer Berg SÃ¼dwest  Entire home/apt     90   \n3 2018-05-14  3309     4108          SchÃ¶neberg-Nord     Private room     26   \n4 2018-05-14  7071    17391            Helmholtzplatz     Private room     47   \n\n   minimum_nights  calculated_host_listings_count  \n0               5                               4  \n1               3                               1  \n2              62                               1  \n3               5                               1  \n4               2                               1  ",
      "text/html": "<div>\n<style scoped>\n    .dataframe tbody tr th:only-of-type {\n        vertical-align: middle;\n    }\n\n    .dataframe tbody tr th {\n        vertical-align: top;\n    }\n\n    .dataframe thead th {\n        text-align: right;\n    }\n</style>\n<table border=\"1\" class=\"dataframe\">\n  <thead>\n    <tr style=\"text-align: right;\">\n      <th></th>\n      <th>Date</th>\n      <th>id</th>\n      <th>host_id</th>\n      <th>neighbourhood</th>\n      <th>room_type</th>\n      <th>price</th>\n      <th>minimum_nights</th>\n      <th>calculated_host_listings_count</th>\n    </tr>\n  </thead>\n  <tbody>\n    <tr>\n      <td>0</td>\n      <td>2018-05-14</td>\n      <td>2015</td>\n      <td>2217</td>\n      <td>Brunnenstr. SÃ¼d</td>\n      <td>Entire home/apt</td>\n      <td>60</td>\n      <td>5</td>\n      <td>4</td>\n    </tr>\n    <tr>\n      <td>1</td>\n      <td>2018-05-14</td>\n      <td>2776</td>\n      <td>3091</td>\n      <td>Wedding Zentrum</td>\n      <td>Private room</td>\n      <td>55</td>\n      <td>3</td>\n      <td>1</td>\n    </tr>\n    <tr>\n      <td>2</td>\n      <td>2018-05-14</td>\n      <td>3176</td>\n      <td>3718</td>\n      <td>Prenzlauer Berg SÃ¼dwest</td>\n      <td>Entire home/apt</td>\n      <td>90</td>\n      <td>62</td>\n      <td>1</td>\n    </tr>\n    <tr>\n      <td>3</td>\n      <td>2018-05-14</td>\n      <td>3309</td>\n      <td>4108</td>\n      <td>SchÃ¶neberg-Nord</td>\n      <td>Private room</td>\n      <td>26</td>\n      <td>5</td>\n      <td>1</td>\n    </tr>\n    <tr>\n      <td>4</td>\n      <td>2018-05-14</td>\n      <td>7071</td>\n      <td>17391</td>\n      <td>Helmholtzplatz</td>\n      <td>Private room</td>\n      <td>47</td>\n      <td>2</td>\n      <td>1</td>\n    </tr>\n  </tbody>\n</table>\n</div>"
     },
     "metadata": {},
     "execution_count": 20
    }
   ],
   "source": [
    "Berlin18_19_df = Berlin18_19_df[ ['Date'] + [ col for col in Berlin18_19_df.columns if col != 'Date' ] ]\n",
    "\n",
    "Berlin18_19_df.head()"
   ]
  },
  {
   "cell_type": "code",
   "execution_count": 23,
   "metadata": {},
   "outputs": [
    {
     "output_type": "execute_result",
     "data": {
      "text/plain": "        Date  Listing id  host_id             neighbourhood        room_type  \\\n0 2019-06-08        1944     2164          Brunnenstr. Nord     Private room   \n1 2019-06-08        2015     2217          Brunnenstr. SÃ¼d  Entire home/apt   \n2 2019-06-08        2695     2986  Prenzlauer Berg Nordwest     Private room   \n3 2019-06-08        3176     3718  Prenzlauer Berg SÃ¼dwest  Entire home/apt   \n4 2019-06-08        3309     4108          SchÃ¶neberg-Nord     Private room   \n\n   price  minimum_nights  calculated_host_listings_count  \n0     21             120                               1  \n1     60               4                               5  \n2     17               2                               1  \n3     90              62                               1  \n4     28               7                               1  ",
      "text/html": "<div>\n<style scoped>\n    .dataframe tbody tr th:only-of-type {\n        vertical-align: middle;\n    }\n\n    .dataframe tbody tr th {\n        vertical-align: top;\n    }\n\n    .dataframe thead th {\n        text-align: right;\n    }\n</style>\n<table border=\"1\" class=\"dataframe\">\n  <thead>\n    <tr style=\"text-align: right;\">\n      <th></th>\n      <th>Date</th>\n      <th>Listing id</th>\n      <th>host_id</th>\n      <th>neighbourhood</th>\n      <th>room_type</th>\n      <th>price</th>\n      <th>minimum_nights</th>\n      <th>calculated_host_listings_count</th>\n    </tr>\n  </thead>\n  <tbody>\n    <tr>\n      <td>0</td>\n      <td>2019-06-08</td>\n      <td>1944</td>\n      <td>2164</td>\n      <td>Brunnenstr. Nord</td>\n      <td>Private room</td>\n      <td>21</td>\n      <td>120</td>\n      <td>1</td>\n    </tr>\n    <tr>\n      <td>1</td>\n      <td>2019-06-08</td>\n      <td>2015</td>\n      <td>2217</td>\n      <td>Brunnenstr. SÃ¼d</td>\n      <td>Entire home/apt</td>\n      <td>60</td>\n      <td>4</td>\n      <td>5</td>\n    </tr>\n    <tr>\n      <td>2</td>\n      <td>2019-06-08</td>\n      <td>2695</td>\n      <td>2986</td>\n      <td>Prenzlauer Berg Nordwest</td>\n      <td>Private room</td>\n      <td>17</td>\n      <td>2</td>\n      <td>1</td>\n    </tr>\n    <tr>\n      <td>3</td>\n      <td>2019-06-08</td>\n      <td>3176</td>\n      <td>3718</td>\n      <td>Prenzlauer Berg SÃ¼dwest</td>\n      <td>Entire home/apt</td>\n      <td>90</td>\n      <td>62</td>\n      <td>1</td>\n    </tr>\n    <tr>\n      <td>4</td>\n      <td>2019-06-08</td>\n      <td>3309</td>\n      <td>4108</td>\n      <td>SchÃ¶neberg-Nord</td>\n      <td>Private room</td>\n      <td>28</td>\n      <td>7</td>\n      <td>1</td>\n    </tr>\n  </tbody>\n</table>\n</div>"
     },
     "metadata": {},
     "execution_count": 23
    }
   ],
   "source": [
    "Berlin19_20_df = pd.read_excel(\"../Berlin_June 2019-May 2020.xlsx\")\n",
    "\n",
    "Berlin19_20_df = Berlin19_20_df.drop(columns=['name', 'host_name', 'neighbourhood_group', 'latitude', 'longitude', 'number_of_reviews', 'last_review', 'reviews_per_month', 'availability_365'])\n",
    "\n",
    "Berlin19_20_df = Berlin19_20_df[ ['Date'] + [ col for col in Berlin19_20_df.columns if col != 'Date' ] ]\n",
    "\n",
    "Berlin19_20_df.head()"
   ]
  },
  {
   "cell_type": "code",
   "execution_count": 24,
   "metadata": {},
   "outputs": [],
   "source": [
    "Berlin18_19_df.to_csv('Berlin.May18_May19.csv')"
   ]
  },
  {
   "cell_type": "code",
   "execution_count": 25,
   "metadata": {},
   "outputs": [],
   "source": [
    "Berlin19_20_df.to_csv('Berlin.June19_May20.csv')"
   ]
  },
  {
   "cell_type": "code",
   "execution_count": null,
   "metadata": {},
   "outputs": [],
   "source": []
  }
 ]
}