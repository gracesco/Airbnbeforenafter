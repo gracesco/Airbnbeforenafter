{
 "metadata": {
  "language_info": {
   "codemirror_mode": {
    "name": "ipython",
    "version": 3
   },
   "file_extension": ".py",
   "mimetype": "text/x-python",
   "name": "python",
   "nbconvert_exporter": "python",
   "pygments_lexer": "ipython3",
   "version": "3.7.4-final"
  },
  "orig_nbformat": 2,
  "kernelspec": {
   "name": "python_defaultSpec_1597503770991",
   "display_name": "Python 3.7.4 64-bit ('base': conda)"
  }
 },
 "nbformat": 4,
 "nbformat_minor": 2,
 "cells": [
  {
   "cell_type": "code",
   "execution_count": 6,
   "metadata": {},
   "outputs": [],
   "source": [
    "import pandas as pd"
   ]
  },
  {
   "cell_type": "code",
   "execution_count": 7,
   "metadata": {},
   "outputs": [
    {
     "output_type": "execute_result",
     "data": {
      "text/plain": "      id                                       name  host_id host_name  \\\n0  14063                       Living in a Postcard    53598    Shalev   \n1  17878          Very Nice 2Br - Copacabana - WiFi    68997  Matthias   \n2  24480           Nice and cozy near Ipanema Beach    99249      Goya   \n3  25026  Beautiful Modern Decorated Studio in Copa   102840   Viviane   \n4  31560           NICE & COZY 1BDR - IPANEMA BEACH   135635    Renata   \n\n   neighbourhood_group neighbourhood   latitude  longitude        room_type  \\\n0                  NaN      Botafogo -22.946854 -43.182737  Entire home/apt   \n1                  NaN    Copacabana -22.965919 -43.178962  Entire home/apt   \n2                  NaN       Ipanema -22.985698 -43.201935  Entire home/apt   \n3                  NaN    Copacabana -22.977117 -43.190454  Entire home/apt   \n4                  NaN       Ipanema -22.983024 -43.214270  Entire home/apt   \n\n   price  minimum_nights  number_of_reviews last_review  reviews_per_month  \\\n0    143              60                 38  2018-03-04               0.37   \n1    290               4                207  2018-05-07               2.17   \n2    231               3                 85  2018-02-14               0.91   \n3    158               4                211  2018-05-03               2.18   \n4    238               2                204  2018-05-07               2.13   \n\n   calculated_host_listings_count  availability_365  \n0                               1               363  \n1                               1               279  \n2                               1                 0  \n3                               3               348  \n4                               1               334  ",
      "text/html": "<div>\n<style scoped>\n    .dataframe tbody tr th:only-of-type {\n        vertical-align: middle;\n    }\n\n    .dataframe tbody tr th {\n        vertical-align: top;\n    }\n\n    .dataframe thead th {\n        text-align: right;\n    }\n</style>\n<table border=\"1\" class=\"dataframe\">\n  <thead>\n    <tr style=\"text-align: right;\">\n      <th></th>\n      <th>id</th>\n      <th>name</th>\n      <th>host_id</th>\n      <th>host_name</th>\n      <th>neighbourhood_group</th>\n      <th>neighbourhood</th>\n      <th>latitude</th>\n      <th>longitude</th>\n      <th>room_type</th>\n      <th>price</th>\n      <th>minimum_nights</th>\n      <th>number_of_reviews</th>\n      <th>last_review</th>\n      <th>reviews_per_month</th>\n      <th>calculated_host_listings_count</th>\n      <th>availability_365</th>\n    </tr>\n  </thead>\n  <tbody>\n    <tr>\n      <td>0</td>\n      <td>14063</td>\n      <td>Living in a Postcard</td>\n      <td>53598</td>\n      <td>Shalev</td>\n      <td>NaN</td>\n      <td>Botafogo</td>\n      <td>-22.946854</td>\n      <td>-43.182737</td>\n      <td>Entire home/apt</td>\n      <td>143</td>\n      <td>60</td>\n      <td>38</td>\n      <td>2018-03-04</td>\n      <td>0.37</td>\n      <td>1</td>\n      <td>363</td>\n    </tr>\n    <tr>\n      <td>1</td>\n      <td>17878</td>\n      <td>Very Nice 2Br - Copacabana - WiFi</td>\n      <td>68997</td>\n      <td>Matthias</td>\n      <td>NaN</td>\n      <td>Copacabana</td>\n      <td>-22.965919</td>\n      <td>-43.178962</td>\n      <td>Entire home/apt</td>\n      <td>290</td>\n      <td>4</td>\n      <td>207</td>\n      <td>2018-05-07</td>\n      <td>2.17</td>\n      <td>1</td>\n      <td>279</td>\n    </tr>\n    <tr>\n      <td>2</td>\n      <td>24480</td>\n      <td>Nice and cozy near Ipanema Beach</td>\n      <td>99249</td>\n      <td>Goya</td>\n      <td>NaN</td>\n      <td>Ipanema</td>\n      <td>-22.985698</td>\n      <td>-43.201935</td>\n      <td>Entire home/apt</td>\n      <td>231</td>\n      <td>3</td>\n      <td>85</td>\n      <td>2018-02-14</td>\n      <td>0.91</td>\n      <td>1</td>\n      <td>0</td>\n    </tr>\n    <tr>\n      <td>3</td>\n      <td>25026</td>\n      <td>Beautiful Modern Decorated Studio in Copa</td>\n      <td>102840</td>\n      <td>Viviane</td>\n      <td>NaN</td>\n      <td>Copacabana</td>\n      <td>-22.977117</td>\n      <td>-43.190454</td>\n      <td>Entire home/apt</td>\n      <td>158</td>\n      <td>4</td>\n      <td>211</td>\n      <td>2018-05-03</td>\n      <td>2.18</td>\n      <td>3</td>\n      <td>348</td>\n    </tr>\n    <tr>\n      <td>4</td>\n      <td>31560</td>\n      <td>NICE &amp; COZY 1BDR - IPANEMA BEACH</td>\n      <td>135635</td>\n      <td>Renata</td>\n      <td>NaN</td>\n      <td>Ipanema</td>\n      <td>-22.983024</td>\n      <td>-43.214270</td>\n      <td>Entire home/apt</td>\n      <td>238</td>\n      <td>2</td>\n      <td>204</td>\n      <td>2018-05-07</td>\n      <td>2.13</td>\n      <td>1</td>\n      <td>334</td>\n    </tr>\n  </tbody>\n</table>\n</div>"
     },
     "metadata": {},
     "execution_count": 7
    }
   ],
   "source": [
    "file = \"CSVs/Rio18_05.csv\"\n",
    "Rio1805_df = pd.read_csv(file)\n",
    "\n",
    "Rio1805_df.head()"
   ]
  },
  {
   "cell_type": "code",
   "execution_count": 8,
   "metadata": {
    "tags": []
   },
   "outputs": [
    {
     "output_type": "stream",
     "name": "stdout",
     "text": "<class 'pandas.core.frame.DataFrame'>\nRangeIndex: 39471 entries, 0 to 39470\nData columns (total 17 columns):\nid                                39471 non-null int64\nname                              39395 non-null object\nhost_id                           39471 non-null int64\nhost_name                         39435 non-null object\nneighbourhood_group               0 non-null float64\nneighbourhood                     39471 non-null object\nlatitude                          39471 non-null float64\nlongitude                         39471 non-null float64\nroom_type                         39471 non-null object\nprice                             39471 non-null int64\nminimum_nights                    39471 non-null int64\nnumber_of_reviews                 39471 non-null int64\nlast_review                       19392 non-null object\nreviews_per_month                 19376 non-null float64\ncalculated_host_listings_count    39471 non-null int64\navailability_365                  39471 non-null int64\ndate                              39471 non-null datetime64[ns]\ndtypes: datetime64[ns](1), float64(4), int64(7), object(5)\nmemory usage: 5.1+ MB\n"
    }
   ],
   "source": [
    "Rio1805_df['date'] = '05/17/2018'\n",
    "Rio1805_df['date']=pd.to_datetime(Rio1805_df['date'])\n",
    "\n",
    "Rio1805_df.info()"
   ]
  },
  {
   "cell_type": "code",
   "execution_count": 9,
   "metadata": {
    "tags": []
   },
   "outputs": [
    {
     "output_type": "stream",
     "name": "stdout",
     "text": "<class 'pandas.core.frame.DataFrame'>\nRangeIndex: 39471 entries, 0 to 39470\nData columns (total 10 columns):\nid                                39471 non-null int64\nhost_id                           39471 non-null int64\nneighbourhood                     39471 non-null object\nlatitude                          39471 non-null float64\nlongitude                         39471 non-null float64\nroom_type                         39471 non-null object\nprice                             39471 non-null int64\nminimum_nights                    39471 non-null int64\ncalculated_host_listings_count    39471 non-null int64\ndate                              39471 non-null datetime64[ns]\ndtypes: datetime64[ns](1), float64(2), int64(5), object(2)\nmemory usage: 3.0+ MB\n"
    }
   ],
   "source": [
    "Rio1805_df = Rio1805_df.drop(columns=['name', 'host_name', 'neighbourhood_group', 'number_of_reviews', 'last_review', 'reviews_per_month', 'availability_365'])\n",
    "\n",
    "Rio1805_df.info()"
   ]
  },
  {
   "cell_type": "code",
   "execution_count": 10,
   "metadata": {},
   "outputs": [
    {
     "output_type": "execute_result",
     "data": {
      "text/plain": "        date     id  host_id neighbourhood   latitude  longitude  \\\n0 2018-05-17  14063    53598      Botafogo -22.946854 -43.182737   \n1 2018-05-17  17878    68997    Copacabana -22.965919 -43.178962   \n2 2018-05-17  24480    99249       Ipanema -22.985698 -43.201935   \n3 2018-05-17  25026   102840    Copacabana -22.977117 -43.190454   \n4 2018-05-17  31560   135635       Ipanema -22.983024 -43.214270   \n\n         room_type  price  minimum_nights  calculated_host_listings_count  \n0  Entire home/apt    143              60                               1  \n1  Entire home/apt    290               4                               1  \n2  Entire home/apt    231               3                               1  \n3  Entire home/apt    158               4                               3  \n4  Entire home/apt    238               2                               1  ",
      "text/html": "<div>\n<style scoped>\n    .dataframe tbody tr th:only-of-type {\n        vertical-align: middle;\n    }\n\n    .dataframe tbody tr th {\n        vertical-align: top;\n    }\n\n    .dataframe thead th {\n        text-align: right;\n    }\n</style>\n<table border=\"1\" class=\"dataframe\">\n  <thead>\n    <tr style=\"text-align: right;\">\n      <th></th>\n      <th>date</th>\n      <th>id</th>\n      <th>host_id</th>\n      <th>neighbourhood</th>\n      <th>latitude</th>\n      <th>longitude</th>\n      <th>room_type</th>\n      <th>price</th>\n      <th>minimum_nights</th>\n      <th>calculated_host_listings_count</th>\n    </tr>\n  </thead>\n  <tbody>\n    <tr>\n      <td>0</td>\n      <td>2018-05-17</td>\n      <td>14063</td>\n      <td>53598</td>\n      <td>Botafogo</td>\n      <td>-22.946854</td>\n      <td>-43.182737</td>\n      <td>Entire home/apt</td>\n      <td>143</td>\n      <td>60</td>\n      <td>1</td>\n    </tr>\n    <tr>\n      <td>1</td>\n      <td>2018-05-17</td>\n      <td>17878</td>\n      <td>68997</td>\n      <td>Copacabana</td>\n      <td>-22.965919</td>\n      <td>-43.178962</td>\n      <td>Entire home/apt</td>\n      <td>290</td>\n      <td>4</td>\n      <td>1</td>\n    </tr>\n    <tr>\n      <td>2</td>\n      <td>2018-05-17</td>\n      <td>24480</td>\n      <td>99249</td>\n      <td>Ipanema</td>\n      <td>-22.985698</td>\n      <td>-43.201935</td>\n      <td>Entire home/apt</td>\n      <td>231</td>\n      <td>3</td>\n      <td>1</td>\n    </tr>\n    <tr>\n      <td>3</td>\n      <td>2018-05-17</td>\n      <td>25026</td>\n      <td>102840</td>\n      <td>Copacabana</td>\n      <td>-22.977117</td>\n      <td>-43.190454</td>\n      <td>Entire home/apt</td>\n      <td>158</td>\n      <td>4</td>\n      <td>3</td>\n    </tr>\n    <tr>\n      <td>4</td>\n      <td>2018-05-17</td>\n      <td>31560</td>\n      <td>135635</td>\n      <td>Ipanema</td>\n      <td>-22.983024</td>\n      <td>-43.214270</td>\n      <td>Entire home/apt</td>\n      <td>238</td>\n      <td>2</td>\n      <td>1</td>\n    </tr>\n  </tbody>\n</table>\n</div>"
     },
     "metadata": {},
     "execution_count": 10
    }
   ],
   "source": [
    "Rio1805_df = Rio1805_df[ ['date'] + [ col for col in Rio1805_df.columns if col != 'date' ] ]\n",
    "\n",
    "Rio1805_df.head()"
   ]
  },
  {
   "cell_type": "code",
   "execution_count": 11,
   "metadata": {},
   "outputs": [
    {
     "output_type": "execute_result",
     "data": {
      "text/plain": "        date     id  host_id neighbourhood   latitude  longitude  \\\n0 2018-07-13  14063    53598      Botafogo -22.946854 -43.182737   \n1 2018-07-13  17878    68997    Copacabana -22.965919 -43.178962   \n2 2018-07-13  24480    99249       Ipanema -22.985698 -43.201935   \n3 2018-07-13  25026   102840    Copacabana -22.977117 -43.190454   \n4 2018-07-13  31560   135635       Ipanema -22.983024 -43.214270   \n\n         room_type  price  minimum_nights  calculated_host_listings_count  \n0  Entire home/apt    151              60                               1  \n1  Entire home/apt    306               4                               1  \n2  Entire home/apt    240               3                               1  \n3  Entire home/apt    159               4                               3  \n4  Entire home/apt    252               2                               1  ",
      "text/html": "<div>\n<style scoped>\n    .dataframe tbody tr th:only-of-type {\n        vertical-align: middle;\n    }\n\n    .dataframe tbody tr th {\n        vertical-align: top;\n    }\n\n    .dataframe thead th {\n        text-align: right;\n    }\n</style>\n<table border=\"1\" class=\"dataframe\">\n  <thead>\n    <tr style=\"text-align: right;\">\n      <th></th>\n      <th>date</th>\n      <th>id</th>\n      <th>host_id</th>\n      <th>neighbourhood</th>\n      <th>latitude</th>\n      <th>longitude</th>\n      <th>room_type</th>\n      <th>price</th>\n      <th>minimum_nights</th>\n      <th>calculated_host_listings_count</th>\n    </tr>\n  </thead>\n  <tbody>\n    <tr>\n      <td>0</td>\n      <td>2018-07-13</td>\n      <td>14063</td>\n      <td>53598</td>\n      <td>Botafogo</td>\n      <td>-22.946854</td>\n      <td>-43.182737</td>\n      <td>Entire home/apt</td>\n      <td>151</td>\n      <td>60</td>\n      <td>1</td>\n    </tr>\n    <tr>\n      <td>1</td>\n      <td>2018-07-13</td>\n      <td>17878</td>\n      <td>68997</td>\n      <td>Copacabana</td>\n      <td>-22.965919</td>\n      <td>-43.178962</td>\n      <td>Entire home/apt</td>\n      <td>306</td>\n      <td>4</td>\n      <td>1</td>\n    </tr>\n    <tr>\n      <td>2</td>\n      <td>2018-07-13</td>\n      <td>24480</td>\n      <td>99249</td>\n      <td>Ipanema</td>\n      <td>-22.985698</td>\n      <td>-43.201935</td>\n      <td>Entire home/apt</td>\n      <td>240</td>\n      <td>3</td>\n      <td>1</td>\n    </tr>\n    <tr>\n      <td>3</td>\n      <td>2018-07-13</td>\n      <td>25026</td>\n      <td>102840</td>\n      <td>Copacabana</td>\n      <td>-22.977117</td>\n      <td>-43.190454</td>\n      <td>Entire home/apt</td>\n      <td>159</td>\n      <td>4</td>\n      <td>3</td>\n    </tr>\n    <tr>\n      <td>4</td>\n      <td>2018-07-13</td>\n      <td>31560</td>\n      <td>135635</td>\n      <td>Ipanema</td>\n      <td>-22.983024</td>\n      <td>-43.214270</td>\n      <td>Entire home/apt</td>\n      <td>252</td>\n      <td>2</td>\n      <td>1</td>\n    </tr>\n  </tbody>\n</table>\n</div>"
     },
     "metadata": {},
     "execution_count": 11
    }
   ],
   "source": [
    "Rio1807_df = pd.read_csv(\"CSVs/Rio18_07.csv\")\n",
    "Rio1807_df['date'] = '07/13/2018'\n",
    "Rio1807_df['date']=pd.to_datetime(Rio1807_df['date'])\n",
    "\n",
    "Rio1807_df = Rio1807_df.drop(columns=['name', 'host_name', 'neighbourhood_group', 'number_of_reviews', 'last_review', 'reviews_per_month', 'availability_365'])\n",
    "\n",
    "Rio1807_df = Rio1807_df[ ['date'] + [ col for col in Rio1807_df.columns if col != 'date' ] ]\n",
    "\n",
    "Rio1807_df.head()"
   ]
  },
  {
   "cell_type": "code",
   "execution_count": 12,
   "metadata": {},
   "outputs": [
    {
     "output_type": "execute_result",
     "data": {
      "text/plain": "        date     id  host_id neighbourhood   latitude  longitude  \\\n0 2018-08-16  17878    68997    Copacabana -22.965919 -43.178962   \n1 2018-08-16  24480    99249       Ipanema -22.985698 -43.201935   \n2 2018-08-16  25026   102840    Copacabana -22.977117 -43.190454   \n3 2018-08-16  31560   135635       Ipanema -22.983024 -43.214270   \n4 2018-08-16  35636   153232       Ipanema -22.988165 -43.193588   \n\n         room_type  price  minimum_nights  calculated_host_listings_count  \n0  Entire home/apt    307               4                               1  \n1  Entire home/apt    233               3                               1  \n2  Entire home/apt    159               4                               3  \n3  Entire home/apt    253               2                               1  \n4  Entire home/apt    350               2                               1  ",
      "text/html": "<div>\n<style scoped>\n    .dataframe tbody tr th:only-of-type {\n        vertical-align: middle;\n    }\n\n    .dataframe tbody tr th {\n        vertical-align: top;\n    }\n\n    .dataframe thead th {\n        text-align: right;\n    }\n</style>\n<table border=\"1\" class=\"dataframe\">\n  <thead>\n    <tr style=\"text-align: right;\">\n      <th></th>\n      <th>date</th>\n      <th>id</th>\n      <th>host_id</th>\n      <th>neighbourhood</th>\n      <th>latitude</th>\n      <th>longitude</th>\n      <th>room_type</th>\n      <th>price</th>\n      <th>minimum_nights</th>\n      <th>calculated_host_listings_count</th>\n    </tr>\n  </thead>\n  <tbody>\n    <tr>\n      <td>0</td>\n      <td>2018-08-16</td>\n      <td>17878</td>\n      <td>68997</td>\n      <td>Copacabana</td>\n      <td>-22.965919</td>\n      <td>-43.178962</td>\n      <td>Entire home/apt</td>\n      <td>307</td>\n      <td>4</td>\n      <td>1</td>\n    </tr>\n    <tr>\n      <td>1</td>\n      <td>2018-08-16</td>\n      <td>24480</td>\n      <td>99249</td>\n      <td>Ipanema</td>\n      <td>-22.985698</td>\n      <td>-43.201935</td>\n      <td>Entire home/apt</td>\n      <td>233</td>\n      <td>3</td>\n      <td>1</td>\n    </tr>\n    <tr>\n      <td>2</td>\n      <td>2018-08-16</td>\n      <td>25026</td>\n      <td>102840</td>\n      <td>Copacabana</td>\n      <td>-22.977117</td>\n      <td>-43.190454</td>\n      <td>Entire home/apt</td>\n      <td>159</td>\n      <td>4</td>\n      <td>3</td>\n    </tr>\n    <tr>\n      <td>3</td>\n      <td>2018-08-16</td>\n      <td>31560</td>\n      <td>135635</td>\n      <td>Ipanema</td>\n      <td>-22.983024</td>\n      <td>-43.214270</td>\n      <td>Entire home/apt</td>\n      <td>253</td>\n      <td>2</td>\n      <td>1</td>\n    </tr>\n    <tr>\n      <td>4</td>\n      <td>2018-08-16</td>\n      <td>35636</td>\n      <td>153232</td>\n      <td>Ipanema</td>\n      <td>-22.988165</td>\n      <td>-43.193588</td>\n      <td>Entire home/apt</td>\n      <td>350</td>\n      <td>2</td>\n      <td>1</td>\n    </tr>\n  </tbody>\n</table>\n</div>"
     },
     "metadata": {},
     "execution_count": 12
    }
   ],
   "source": [
    "Rio1808_df = pd.read_csv(\"CSVs/Rio18_08.csv\")\n",
    "Rio1808_df['date'] = '08/16/2018'\n",
    "Rio1808_df['date']=pd.to_datetime(Rio1808_df['date'])\n",
    "\n",
    "Rio1808_df = Rio1808_df.drop(columns=['name', 'host_name', 'neighbourhood_group', 'number_of_reviews', 'last_review', 'reviews_per_month', 'availability_365'])\n",
    "\n",
    "Rio1808_df = Rio1808_df[ ['date'] + [ col for col in Rio1808_df.columns if col != 'date' ] ]\n",
    "\n",
    "Rio1808_df.head()"
   ]
  },
  {
   "cell_type": "code",
   "execution_count": 13,
   "metadata": {},
   "outputs": [
    {
     "output_type": "execute_result",
     "data": {
      "text/plain": "        date        id    host_id neighbourhood   latitude  longitude  \\\n0 2018-09-14  23107021   52126097    Copacabana -22.978083 -43.190977   \n1 2018-09-14  15506059   15566016    Copacabana -22.981783 -43.193041   \n2 2018-09-14   4837116   24895770    Copacabana -22.983729 -43.192207   \n3 2018-09-14  27107344  204018880    Copacabana -22.983367 -43.190687   \n4 2018-09-14  16229772   85733151    Copacabana -22.976700 -43.192468   \n\n         room_type  price  minimum_nights  calculated_host_listings_count  \n0  Entire home/apt    179               3                               1  \n1  Entire home/apt    150               2                               2  \n2  Entire home/apt    250               1                               1  \n3  Entire home/apt    150               2                               1  \n4  Entire home/apt     50               3                               2  ",
      "text/html": "<div>\n<style scoped>\n    .dataframe tbody tr th:only-of-type {\n        vertical-align: middle;\n    }\n\n    .dataframe tbody tr th {\n        vertical-align: top;\n    }\n\n    .dataframe thead th {\n        text-align: right;\n    }\n</style>\n<table border=\"1\" class=\"dataframe\">\n  <thead>\n    <tr style=\"text-align: right;\">\n      <th></th>\n      <th>date</th>\n      <th>id</th>\n      <th>host_id</th>\n      <th>neighbourhood</th>\n      <th>latitude</th>\n      <th>longitude</th>\n      <th>room_type</th>\n      <th>price</th>\n      <th>minimum_nights</th>\n      <th>calculated_host_listings_count</th>\n    </tr>\n  </thead>\n  <tbody>\n    <tr>\n      <td>0</td>\n      <td>2018-09-14</td>\n      <td>23107021</td>\n      <td>52126097</td>\n      <td>Copacabana</td>\n      <td>-22.978083</td>\n      <td>-43.190977</td>\n      <td>Entire home/apt</td>\n      <td>179</td>\n      <td>3</td>\n      <td>1</td>\n    </tr>\n    <tr>\n      <td>1</td>\n      <td>2018-09-14</td>\n      <td>15506059</td>\n      <td>15566016</td>\n      <td>Copacabana</td>\n      <td>-22.981783</td>\n      <td>-43.193041</td>\n      <td>Entire home/apt</td>\n      <td>150</td>\n      <td>2</td>\n      <td>2</td>\n    </tr>\n    <tr>\n      <td>2</td>\n      <td>2018-09-14</td>\n      <td>4837116</td>\n      <td>24895770</td>\n      <td>Copacabana</td>\n      <td>-22.983729</td>\n      <td>-43.192207</td>\n      <td>Entire home/apt</td>\n      <td>250</td>\n      <td>1</td>\n      <td>1</td>\n    </tr>\n    <tr>\n      <td>3</td>\n      <td>2018-09-14</td>\n      <td>27107344</td>\n      <td>204018880</td>\n      <td>Copacabana</td>\n      <td>-22.983367</td>\n      <td>-43.190687</td>\n      <td>Entire home/apt</td>\n      <td>150</td>\n      <td>2</td>\n      <td>1</td>\n    </tr>\n    <tr>\n      <td>4</td>\n      <td>2018-09-14</td>\n      <td>16229772</td>\n      <td>85733151</td>\n      <td>Copacabana</td>\n      <td>-22.976700</td>\n      <td>-43.192468</td>\n      <td>Entire home/apt</td>\n      <td>50</td>\n      <td>3</td>\n      <td>2</td>\n    </tr>\n  </tbody>\n</table>\n</div>"
     },
     "metadata": {},
     "execution_count": 13
    }
   ],
   "source": [
    "Rio1809_df = pd.read_csv(\"CSVs/Rio18_09.csv\")\n",
    "Rio1809_df['date'] = '09/14/2018'\n",
    "Rio1809_df['date']=pd.to_datetime(Rio1809_df['date'])\n",
    "\n",
    "Rio1809_df = Rio1809_df.drop(columns=['name', 'host_name', 'neighbourhood_group', 'number_of_reviews', 'last_review', 'reviews_per_month', 'availability_365'])\n",
    "\n",
    "Rio1809_df = Rio1809_df[ ['date'] + [ col for col in Rio1809_df.columns if col != 'date' ] ]\n",
    "\n",
    "Rio1809_df.head()"
   ]
  },
  {
   "cell_type": "code",
   "execution_count": 14,
   "metadata": {},
   "outputs": [
    {
     "output_type": "execute_result",
     "data": {
      "text/plain": "        date        id    host_id neighbourhood   latitude  longitude  \\\n0 2018-10-12  10233263   52590431    Copacabana -22.982876 -43.192623   \n1 2018-10-12  16532259   15311839    Copacabana -22.970044 -43.187263   \n2 2018-10-12  23476870    8975746    Copacabana -22.970900 -43.185946   \n3 2018-10-12  12900932   70668128    Copacabana -22.975115 -43.188711   \n4 2018-10-12  18346333  114877442    Copacabana -22.969995 -43.186085   \n\n         room_type  price  minimum_nights  calculated_host_listings_count  \n0  Entire home/apt   1116               1                               1  \n1  Entire home/apt    500               7                               4  \n2  Entire home/apt   1112               3                              40  \n3  Entire home/apt   1089              15                               1  \n4     Private room    192               1                               2  ",
      "text/html": "<div>\n<style scoped>\n    .dataframe tbody tr th:only-of-type {\n        vertical-align: middle;\n    }\n\n    .dataframe tbody tr th {\n        vertical-align: top;\n    }\n\n    .dataframe thead th {\n        text-align: right;\n    }\n</style>\n<table border=\"1\" class=\"dataframe\">\n  <thead>\n    <tr style=\"text-align: right;\">\n      <th></th>\n      <th>date</th>\n      <th>id</th>\n      <th>host_id</th>\n      <th>neighbourhood</th>\n      <th>latitude</th>\n      <th>longitude</th>\n      <th>room_type</th>\n      <th>price</th>\n      <th>minimum_nights</th>\n      <th>calculated_host_listings_count</th>\n    </tr>\n  </thead>\n  <tbody>\n    <tr>\n      <td>0</td>\n      <td>2018-10-12</td>\n      <td>10233263</td>\n      <td>52590431</td>\n      <td>Copacabana</td>\n      <td>-22.982876</td>\n      <td>-43.192623</td>\n      <td>Entire home/apt</td>\n      <td>1116</td>\n      <td>1</td>\n      <td>1</td>\n    </tr>\n    <tr>\n      <td>1</td>\n      <td>2018-10-12</td>\n      <td>16532259</td>\n      <td>15311839</td>\n      <td>Copacabana</td>\n      <td>-22.970044</td>\n      <td>-43.187263</td>\n      <td>Entire home/apt</td>\n      <td>500</td>\n      <td>7</td>\n      <td>4</td>\n    </tr>\n    <tr>\n      <td>2</td>\n      <td>2018-10-12</td>\n      <td>23476870</td>\n      <td>8975746</td>\n      <td>Copacabana</td>\n      <td>-22.970900</td>\n      <td>-43.185946</td>\n      <td>Entire home/apt</td>\n      <td>1112</td>\n      <td>3</td>\n      <td>40</td>\n    </tr>\n    <tr>\n      <td>3</td>\n      <td>2018-10-12</td>\n      <td>12900932</td>\n      <td>70668128</td>\n      <td>Copacabana</td>\n      <td>-22.975115</td>\n      <td>-43.188711</td>\n      <td>Entire home/apt</td>\n      <td>1089</td>\n      <td>15</td>\n      <td>1</td>\n    </tr>\n    <tr>\n      <td>4</td>\n      <td>2018-10-12</td>\n      <td>18346333</td>\n      <td>114877442</td>\n      <td>Copacabana</td>\n      <td>-22.969995</td>\n      <td>-43.186085</td>\n      <td>Private room</td>\n      <td>192</td>\n      <td>1</td>\n      <td>2</td>\n    </tr>\n  </tbody>\n</table>\n</div>"
     },
     "metadata": {},
     "execution_count": 14
    }
   ],
   "source": [
    "Rio1810_df = pd.read_csv(\"CSVs/Rio18_10.csv\")\n",
    "Rio1810_df['date'] = '10/12/2018'\n",
    "Rio1810_df['date']=pd.to_datetime(Rio1810_df['date'])\n",
    "\n",
    "Rio1810_df = Rio1810_df.drop(columns=['name', 'host_name', 'neighbourhood_group', 'number_of_reviews', 'last_review', 'reviews_per_month', 'availability_365'])\n",
    "\n",
    "Rio1810_df = Rio1810_df[ ['date'] + [ col for col in Rio1810_df.columns if col != 'date' ] ]\n",
    "\n",
    "Rio1810_df.head()"
   ]
  },
  {
   "cell_type": "code",
   "execution_count": 15,
   "metadata": {},
   "outputs": [
    {
     "output_type": "execute_result",
     "data": {
      "text/plain": "        date     id  host_id neighbourhood   latitude  longitude  \\\n0 2018-11-15  17878    68997    Copacabana -22.965919 -43.178962   \n1 2018-11-15  24480    99249       Ipanema -22.985698 -43.201935   \n2 2018-11-15  25026   102840    Copacabana -22.977117 -43.190454   \n3 2018-11-15  31560   135635       Ipanema -22.983024 -43.214270   \n4 2018-11-15  35636   153232       Ipanema -22.988165 -43.193588   \n\n         room_type  price  minimum_nights  calculated_host_listings_count  \n0  Entire home/apt    300               4                               1  \n1  Entire home/apt    228               3                               1  \n2  Entire home/apt    159               4                               3  \n3  Entire home/apt    247               2                               1  \n4  Entire home/apt    342               2                               1  ",
      "text/html": "<div>\n<style scoped>\n    .dataframe tbody tr th:only-of-type {\n        vertical-align: middle;\n    }\n\n    .dataframe tbody tr th {\n        vertical-align: top;\n    }\n\n    .dataframe thead th {\n        text-align: right;\n    }\n</style>\n<table border=\"1\" class=\"dataframe\">\n  <thead>\n    <tr style=\"text-align: right;\">\n      <th></th>\n      <th>date</th>\n      <th>id</th>\n      <th>host_id</th>\n      <th>neighbourhood</th>\n      <th>latitude</th>\n      <th>longitude</th>\n      <th>room_type</th>\n      <th>price</th>\n      <th>minimum_nights</th>\n      <th>calculated_host_listings_count</th>\n    </tr>\n  </thead>\n  <tbody>\n    <tr>\n      <td>0</td>\n      <td>2018-11-15</td>\n      <td>17878</td>\n      <td>68997</td>\n      <td>Copacabana</td>\n      <td>-22.965919</td>\n      <td>-43.178962</td>\n      <td>Entire home/apt</td>\n      <td>300</td>\n      <td>4</td>\n      <td>1</td>\n    </tr>\n    <tr>\n      <td>1</td>\n      <td>2018-11-15</td>\n      <td>24480</td>\n      <td>99249</td>\n      <td>Ipanema</td>\n      <td>-22.985698</td>\n      <td>-43.201935</td>\n      <td>Entire home/apt</td>\n      <td>228</td>\n      <td>3</td>\n      <td>1</td>\n    </tr>\n    <tr>\n      <td>2</td>\n      <td>2018-11-15</td>\n      <td>25026</td>\n      <td>102840</td>\n      <td>Copacabana</td>\n      <td>-22.977117</td>\n      <td>-43.190454</td>\n      <td>Entire home/apt</td>\n      <td>159</td>\n      <td>4</td>\n      <td>3</td>\n    </tr>\n    <tr>\n      <td>3</td>\n      <td>2018-11-15</td>\n      <td>31560</td>\n      <td>135635</td>\n      <td>Ipanema</td>\n      <td>-22.983024</td>\n      <td>-43.214270</td>\n      <td>Entire home/apt</td>\n      <td>247</td>\n      <td>2</td>\n      <td>1</td>\n    </tr>\n    <tr>\n      <td>4</td>\n      <td>2018-11-15</td>\n      <td>35636</td>\n      <td>153232</td>\n      <td>Ipanema</td>\n      <td>-22.988165</td>\n      <td>-43.193588</td>\n      <td>Entire home/apt</td>\n      <td>342</td>\n      <td>2</td>\n      <td>1</td>\n    </tr>\n  </tbody>\n</table>\n</div>"
     },
     "metadata": {},
     "execution_count": 15
    }
   ],
   "source": [
    "Rio1811_df = pd.read_csv(\"CSVs/Rio18_11.csv\")\n",
    "Rio1811_df['date'] = '11/15/2018'\n",
    "Rio1811_df['date']=pd.to_datetime(Rio1811_df['date'])\n",
    "\n",
    "Rio1811_df = Rio1811_df.drop(columns=['name', 'host_name', 'neighbourhood_group', 'number_of_reviews', 'last_review', 'reviews_per_month', 'availability_365'])\n",
    "\n",
    "Rio1811_df = Rio1811_df[ ['date'] + [ col for col in Rio1811_df.columns if col != 'date' ] ]\n",
    "\n",
    "Rio1811_df.head()"
   ]
  },
  {
   "cell_type": "code",
   "execution_count": 16,
   "metadata": {},
   "outputs": [
    {
     "output_type": "execute_result",
     "data": {
      "text/plain": "        date     id  host_id neighbourhood   latitude  longitude  \\\n0 2018-12-14  17878    68997    Copacabana -22.965919 -43.178962   \n1 2018-12-14  24480    99249       Ipanema -22.985698 -43.201935   \n2 2018-12-14  25026   102840    Copacabana -22.977117 -43.190454   \n3 2018-12-14  31560   135635       Ipanema -22.983024 -43.214270   \n4 2018-12-14  34608   149407   São Conrado -22.998669 -43.271372   \n\n         room_type  price  minimum_nights  calculated_host_listings_count  \n0  Entire home/apt    306               4                               1  \n1  Entire home/apt    232               3                               1  \n2  Entire home/apt    159               4                               3  \n3  Entire home/apt    252               2                               1  \n4  Entire home/apt   3499               1                               8  ",
      "text/html": "<div>\n<style scoped>\n    .dataframe tbody tr th:only-of-type {\n        vertical-align: middle;\n    }\n\n    .dataframe tbody tr th {\n        vertical-align: top;\n    }\n\n    .dataframe thead th {\n        text-align: right;\n    }\n</style>\n<table border=\"1\" class=\"dataframe\">\n  <thead>\n    <tr style=\"text-align: right;\">\n      <th></th>\n      <th>date</th>\n      <th>id</th>\n      <th>host_id</th>\n      <th>neighbourhood</th>\n      <th>latitude</th>\n      <th>longitude</th>\n      <th>room_type</th>\n      <th>price</th>\n      <th>minimum_nights</th>\n      <th>calculated_host_listings_count</th>\n    </tr>\n  </thead>\n  <tbody>\n    <tr>\n      <td>0</td>\n      <td>2018-12-14</td>\n      <td>17878</td>\n      <td>68997</td>\n      <td>Copacabana</td>\n      <td>-22.965919</td>\n      <td>-43.178962</td>\n      <td>Entire home/apt</td>\n      <td>306</td>\n      <td>4</td>\n      <td>1</td>\n    </tr>\n    <tr>\n      <td>1</td>\n      <td>2018-12-14</td>\n      <td>24480</td>\n      <td>99249</td>\n      <td>Ipanema</td>\n      <td>-22.985698</td>\n      <td>-43.201935</td>\n      <td>Entire home/apt</td>\n      <td>232</td>\n      <td>3</td>\n      <td>1</td>\n    </tr>\n    <tr>\n      <td>2</td>\n      <td>2018-12-14</td>\n      <td>25026</td>\n      <td>102840</td>\n      <td>Copacabana</td>\n      <td>-22.977117</td>\n      <td>-43.190454</td>\n      <td>Entire home/apt</td>\n      <td>159</td>\n      <td>4</td>\n      <td>3</td>\n    </tr>\n    <tr>\n      <td>3</td>\n      <td>2018-12-14</td>\n      <td>31560</td>\n      <td>135635</td>\n      <td>Ipanema</td>\n      <td>-22.983024</td>\n      <td>-43.214270</td>\n      <td>Entire home/apt</td>\n      <td>252</td>\n      <td>2</td>\n      <td>1</td>\n    </tr>\n    <tr>\n      <td>4</td>\n      <td>2018-12-14</td>\n      <td>34608</td>\n      <td>149407</td>\n      <td>São Conrado</td>\n      <td>-22.998669</td>\n      <td>-43.271372</td>\n      <td>Entire home/apt</td>\n      <td>3499</td>\n      <td>1</td>\n      <td>8</td>\n    </tr>\n  </tbody>\n</table>\n</div>"
     },
     "metadata": {},
     "execution_count": 16
    }
   ],
   "source": [
    "Rio1812_df = pd.read_csv(\"CSVs/Rio18_12.csv\")\n",
    "Rio1812_df['date'] = '12/14/2018'\n",
    "Rio1812_df['date']=pd.to_datetime(Rio1812_df['date'])\n",
    "\n",
    "Rio1812_df = Rio1812_df.drop(columns=['name', 'host_name', 'neighbourhood_group', 'number_of_reviews', 'last_review', 'reviews_per_month', 'availability_365'])\n",
    "\n",
    "Rio1812_df = Rio1812_df[ ['date'] + [ col for col in Rio1812_df.columns if col != 'date' ] ]\n",
    "\n",
    "Rio1812_df.head()"
   ]
  },
  {
   "cell_type": "code",
   "execution_count": 17,
   "metadata": {},
   "outputs": [
    {
     "output_type": "execute_result",
     "data": {
      "text/plain": "        date     id  host_id neighbourhood   latitude  longitude  \\\n0 2019-01-18  17878    68997    Copacabana -22.965919 -43.178962   \n1 2019-01-18  24480    99249       Ipanema -22.985698 -43.201935   \n2 2019-01-18  25026   102840    Copacabana -22.977117 -43.190454   \n3 2019-01-18  31560   135635       Ipanema -22.983024 -43.214270   \n4 2019-01-18  34608   149407   São Conrado -22.998669 -43.271372   \n\n         room_type  price  minimum_nights  calculated_host_listings_count  \n0  Entire home/apt    296               4                               1  \n1  Entire home/apt    225               3                               1  \n2  Entire home/apt    161               4                               3  \n3  Entire home/apt    243               2                               1  \n4  Entire home/apt   3498               1                               8  ",
      "text/html": "<div>\n<style scoped>\n    .dataframe tbody tr th:only-of-type {\n        vertical-align: middle;\n    }\n\n    .dataframe tbody tr th {\n        vertical-align: top;\n    }\n\n    .dataframe thead th {\n        text-align: right;\n    }\n</style>\n<table border=\"1\" class=\"dataframe\">\n  <thead>\n    <tr style=\"text-align: right;\">\n      <th></th>\n      <th>date</th>\n      <th>id</th>\n      <th>host_id</th>\n      <th>neighbourhood</th>\n      <th>latitude</th>\n      <th>longitude</th>\n      <th>room_type</th>\n      <th>price</th>\n      <th>minimum_nights</th>\n      <th>calculated_host_listings_count</th>\n    </tr>\n  </thead>\n  <tbody>\n    <tr>\n      <td>0</td>\n      <td>2019-01-18</td>\n      <td>17878</td>\n      <td>68997</td>\n      <td>Copacabana</td>\n      <td>-22.965919</td>\n      <td>-43.178962</td>\n      <td>Entire home/apt</td>\n      <td>296</td>\n      <td>4</td>\n      <td>1</td>\n    </tr>\n    <tr>\n      <td>1</td>\n      <td>2019-01-18</td>\n      <td>24480</td>\n      <td>99249</td>\n      <td>Ipanema</td>\n      <td>-22.985698</td>\n      <td>-43.201935</td>\n      <td>Entire home/apt</td>\n      <td>225</td>\n      <td>3</td>\n      <td>1</td>\n    </tr>\n    <tr>\n      <td>2</td>\n      <td>2019-01-18</td>\n      <td>25026</td>\n      <td>102840</td>\n      <td>Copacabana</td>\n      <td>-22.977117</td>\n      <td>-43.190454</td>\n      <td>Entire home/apt</td>\n      <td>161</td>\n      <td>4</td>\n      <td>3</td>\n    </tr>\n    <tr>\n      <td>3</td>\n      <td>2019-01-18</td>\n      <td>31560</td>\n      <td>135635</td>\n      <td>Ipanema</td>\n      <td>-22.983024</td>\n      <td>-43.214270</td>\n      <td>Entire home/apt</td>\n      <td>243</td>\n      <td>2</td>\n      <td>1</td>\n    </tr>\n    <tr>\n      <td>4</td>\n      <td>2019-01-18</td>\n      <td>34608</td>\n      <td>149407</td>\n      <td>São Conrado</td>\n      <td>-22.998669</td>\n      <td>-43.271372</td>\n      <td>Entire home/apt</td>\n      <td>3498</td>\n      <td>1</td>\n      <td>8</td>\n    </tr>\n  </tbody>\n</table>\n</div>"
     },
     "metadata": {},
     "execution_count": 17
    }
   ],
   "source": [
    "Rio1901_df = pd.read_csv(\"CSVs/Rio19_01.csv\")\n",
    "Rio1901_df['date'] = '01/18/2019'\n",
    "Rio1901_df['date']=pd.to_datetime(Rio1901_df['date'])\n",
    "\n",
    "Rio1901_df = Rio1901_df.drop(columns=['name', 'host_name', 'neighbourhood_group', 'number_of_reviews', 'last_review', 'reviews_per_month', 'availability_365'])\n",
    "\n",
    "Rio1901_df = Rio1901_df[ ['date'] + [ col for col in Rio1901_df.columns if col != 'date' ] ]\n",
    "\n",
    "Rio1901_df.head()"
   ]
  },
  {
   "cell_type": "code",
   "execution_count": 18,
   "metadata": {},
   "outputs": [
    {
     "output_type": "execute_result",
     "data": {
      "text/plain": "        date     id  host_id neighbourhood   latitude  longitude  \\\n0 2019-02-11  17878    68997    Copacabana -22.965919 -43.178962   \n1 2019-02-11  25026   102840    Copacabana -22.977117 -43.190454   \n2 2019-02-11  31560   135635       Ipanema -22.983024 -43.214270   \n3 2019-02-11  34608   149407   São Conrado -22.998669 -43.271372   \n4 2019-02-11  35636   153232       Ipanema -22.988165 -43.193588   \n\n         room_type  price  minimum_nights  calculated_host_listings_count  \n0  Entire home/apt    295               4                               1  \n1  Entire home/apt    160               4                               3  \n2  Entire home/apt    242               2                               1  \n3  Entire home/apt   3499               1                               8  \n4  Entire home/apt    336               2                               1  ",
      "text/html": "<div>\n<style scoped>\n    .dataframe tbody tr th:only-of-type {\n        vertical-align: middle;\n    }\n\n    .dataframe tbody tr th {\n        vertical-align: top;\n    }\n\n    .dataframe thead th {\n        text-align: right;\n    }\n</style>\n<table border=\"1\" class=\"dataframe\">\n  <thead>\n    <tr style=\"text-align: right;\">\n      <th></th>\n      <th>date</th>\n      <th>id</th>\n      <th>host_id</th>\n      <th>neighbourhood</th>\n      <th>latitude</th>\n      <th>longitude</th>\n      <th>room_type</th>\n      <th>price</th>\n      <th>minimum_nights</th>\n      <th>calculated_host_listings_count</th>\n    </tr>\n  </thead>\n  <tbody>\n    <tr>\n      <td>0</td>\n      <td>2019-02-11</td>\n      <td>17878</td>\n      <td>68997</td>\n      <td>Copacabana</td>\n      <td>-22.965919</td>\n      <td>-43.178962</td>\n      <td>Entire home/apt</td>\n      <td>295</td>\n      <td>4</td>\n      <td>1</td>\n    </tr>\n    <tr>\n      <td>1</td>\n      <td>2019-02-11</td>\n      <td>25026</td>\n      <td>102840</td>\n      <td>Copacabana</td>\n      <td>-22.977117</td>\n      <td>-43.190454</td>\n      <td>Entire home/apt</td>\n      <td>160</td>\n      <td>4</td>\n      <td>3</td>\n    </tr>\n    <tr>\n      <td>2</td>\n      <td>2019-02-11</td>\n      <td>31560</td>\n      <td>135635</td>\n      <td>Ipanema</td>\n      <td>-22.983024</td>\n      <td>-43.214270</td>\n      <td>Entire home/apt</td>\n      <td>242</td>\n      <td>2</td>\n      <td>1</td>\n    </tr>\n    <tr>\n      <td>3</td>\n      <td>2019-02-11</td>\n      <td>34608</td>\n      <td>149407</td>\n      <td>São Conrado</td>\n      <td>-22.998669</td>\n      <td>-43.271372</td>\n      <td>Entire home/apt</td>\n      <td>3499</td>\n      <td>1</td>\n      <td>8</td>\n    </tr>\n    <tr>\n      <td>4</td>\n      <td>2019-02-11</td>\n      <td>35636</td>\n      <td>153232</td>\n      <td>Ipanema</td>\n      <td>-22.988165</td>\n      <td>-43.193588</td>\n      <td>Entire home/apt</td>\n      <td>336</td>\n      <td>2</td>\n      <td>1</td>\n    </tr>\n  </tbody>\n</table>\n</div>"
     },
     "metadata": {},
     "execution_count": 18
    }
   ],
   "source": [
    "Rio1902_df = pd.read_csv(\"CSVs/Rio19_02.csv\")\n",
    "Rio1902_df['date'] = '02/11/2019'\n",
    "Rio1902_df['date']=pd.to_datetime(Rio1902_df['date'])\n",
    "\n",
    "Rio1902_df = Rio1902_df.drop(columns=['name', 'host_name', 'neighbourhood_group', 'number_of_reviews', 'last_review', 'reviews_per_month', 'availability_365'])\n",
    "\n",
    "Rio1902_df = Rio1902_df[ ['date'] + [ col for col in Rio1902_df.columns if col != 'date' ] ]\n",
    "\n",
    "Rio1902_df.head()"
   ]
  },
  {
   "cell_type": "code",
   "execution_count": 19,
   "metadata": {},
   "outputs": [
    {
     "output_type": "execute_result",
     "data": {
      "text/plain": "        date     id  host_id neighbourhood  latitude  longitude  \\\n0 2019-03-13  17878    68997    Copacabana -22.96592  -43.17896   \n1 2019-03-13  25026   102840    Copacabana -22.97712  -43.19045   \n2 2019-03-13  31560   135635       Ipanema -22.98302  -43.21427   \n3 2019-03-13  34608   149407   São Conrado -22.99867  -43.27137   \n4 2019-03-13  35636   153232       Ipanema -22.98816  -43.19359   \n\n         room_type  price  minimum_nights  calculated_host_listings_count  \n0  Entire home/apt    302               4                               1  \n1  Entire home/apt    161               4                               3  \n2  Entire home/apt    249               2                               1  \n3  Entire home/apt   3501               1                               8  \n4  Entire home/apt    344               2                               1  ",
      "text/html": "<div>\n<style scoped>\n    .dataframe tbody tr th:only-of-type {\n        vertical-align: middle;\n    }\n\n    .dataframe tbody tr th {\n        vertical-align: top;\n    }\n\n    .dataframe thead th {\n        text-align: right;\n    }\n</style>\n<table border=\"1\" class=\"dataframe\">\n  <thead>\n    <tr style=\"text-align: right;\">\n      <th></th>\n      <th>date</th>\n      <th>id</th>\n      <th>host_id</th>\n      <th>neighbourhood</th>\n      <th>latitude</th>\n      <th>longitude</th>\n      <th>room_type</th>\n      <th>price</th>\n      <th>minimum_nights</th>\n      <th>calculated_host_listings_count</th>\n    </tr>\n  </thead>\n  <tbody>\n    <tr>\n      <td>0</td>\n      <td>2019-03-13</td>\n      <td>17878</td>\n      <td>68997</td>\n      <td>Copacabana</td>\n      <td>-22.96592</td>\n      <td>-43.17896</td>\n      <td>Entire home/apt</td>\n      <td>302</td>\n      <td>4</td>\n      <td>1</td>\n    </tr>\n    <tr>\n      <td>1</td>\n      <td>2019-03-13</td>\n      <td>25026</td>\n      <td>102840</td>\n      <td>Copacabana</td>\n      <td>-22.97712</td>\n      <td>-43.19045</td>\n      <td>Entire home/apt</td>\n      <td>161</td>\n      <td>4</td>\n      <td>3</td>\n    </tr>\n    <tr>\n      <td>2</td>\n      <td>2019-03-13</td>\n      <td>31560</td>\n      <td>135635</td>\n      <td>Ipanema</td>\n      <td>-22.98302</td>\n      <td>-43.21427</td>\n      <td>Entire home/apt</td>\n      <td>249</td>\n      <td>2</td>\n      <td>1</td>\n    </tr>\n    <tr>\n      <td>3</td>\n      <td>2019-03-13</td>\n      <td>34608</td>\n      <td>149407</td>\n      <td>São Conrado</td>\n      <td>-22.99867</td>\n      <td>-43.27137</td>\n      <td>Entire home/apt</td>\n      <td>3501</td>\n      <td>1</td>\n      <td>8</td>\n    </tr>\n    <tr>\n      <td>4</td>\n      <td>2019-03-13</td>\n      <td>35636</td>\n      <td>153232</td>\n      <td>Ipanema</td>\n      <td>-22.98816</td>\n      <td>-43.19359</td>\n      <td>Entire home/apt</td>\n      <td>344</td>\n      <td>2</td>\n      <td>1</td>\n    </tr>\n  </tbody>\n</table>\n</div>"
     },
     "metadata": {},
     "execution_count": 19
    }
   ],
   "source": [
    "Rio1903_df = pd.read_csv(\"CSVs/Rio19_03.csv\")\n",
    "Rio1903_df['date'] = '03/13/2019'\n",
    "Rio1903_df['date']=pd.to_datetime(Rio1903_df['date'])\n",
    "\n",
    "Rio1903_df = Rio1903_df.drop(columns=['name', 'host_name', 'neighbourhood_group', 'number_of_reviews', 'last_review', 'reviews_per_month', 'availability_365'])\n",
    "\n",
    "Rio1903_df = Rio1903_df[ ['date'] + [ col for col in Rio1903_df.columns if col != 'date' ] ]\n",
    "\n",
    "Rio1903_df.head()"
   ]
  },
  {
   "cell_type": "code",
   "execution_count": 20,
   "metadata": {},
   "outputs": [
    {
     "output_type": "execute_result",
     "data": {
      "text/plain": "        date     id  host_id neighbourhood  latitude  longitude  \\\n0 2019-04-16  17878    68997    Copacabana -22.96592  -43.17896   \n1 2019-04-16  25026   102840    Copacabana -22.97712  -43.19045   \n2 2019-04-16  31560   135635       Ipanema -22.98302  -43.21427   \n3 2019-04-16  35636   153232       Ipanema -22.98816  -43.19359   \n4 2019-04-16  35764   153691    Copacabana -22.98127  -43.19046   \n\n         room_type  price  minimum_nights  calculated_host_listings_count  \n0  Entire home/apt    302               5                               1  \n1  Entire home/apt    159               4                               3  \n2  Entire home/apt    252               2                               1  \n3  Entire home/apt    350               2                               1  \n4  Entire home/apt    221               3                               1  ",
      "text/html": "<div>\n<style scoped>\n    .dataframe tbody tr th:only-of-type {\n        vertical-align: middle;\n    }\n\n    .dataframe tbody tr th {\n        vertical-align: top;\n    }\n\n    .dataframe thead th {\n        text-align: right;\n    }\n</style>\n<table border=\"1\" class=\"dataframe\">\n  <thead>\n    <tr style=\"text-align: right;\">\n      <th></th>\n      <th>date</th>\n      <th>id</th>\n      <th>host_id</th>\n      <th>neighbourhood</th>\n      <th>latitude</th>\n      <th>longitude</th>\n      <th>room_type</th>\n      <th>price</th>\n      <th>minimum_nights</th>\n      <th>calculated_host_listings_count</th>\n    </tr>\n  </thead>\n  <tbody>\n    <tr>\n      <td>0</td>\n      <td>2019-04-16</td>\n      <td>17878</td>\n      <td>68997</td>\n      <td>Copacabana</td>\n      <td>-22.96592</td>\n      <td>-43.17896</td>\n      <td>Entire home/apt</td>\n      <td>302</td>\n      <td>5</td>\n      <td>1</td>\n    </tr>\n    <tr>\n      <td>1</td>\n      <td>2019-04-16</td>\n      <td>25026</td>\n      <td>102840</td>\n      <td>Copacabana</td>\n      <td>-22.97712</td>\n      <td>-43.19045</td>\n      <td>Entire home/apt</td>\n      <td>159</td>\n      <td>4</td>\n      <td>3</td>\n    </tr>\n    <tr>\n      <td>2</td>\n      <td>2019-04-16</td>\n      <td>31560</td>\n      <td>135635</td>\n      <td>Ipanema</td>\n      <td>-22.98302</td>\n      <td>-43.21427</td>\n      <td>Entire home/apt</td>\n      <td>252</td>\n      <td>2</td>\n      <td>1</td>\n    </tr>\n    <tr>\n      <td>3</td>\n      <td>2019-04-16</td>\n      <td>35636</td>\n      <td>153232</td>\n      <td>Ipanema</td>\n      <td>-22.98816</td>\n      <td>-43.19359</td>\n      <td>Entire home/apt</td>\n      <td>350</td>\n      <td>2</td>\n      <td>1</td>\n    </tr>\n    <tr>\n      <td>4</td>\n      <td>2019-04-16</td>\n      <td>35764</td>\n      <td>153691</td>\n      <td>Copacabana</td>\n      <td>-22.98127</td>\n      <td>-43.19046</td>\n      <td>Entire home/apt</td>\n      <td>221</td>\n      <td>3</td>\n      <td>1</td>\n    </tr>\n  </tbody>\n</table>\n</div>"
     },
     "metadata": {},
     "execution_count": 20
    }
   ],
   "source": [
    "Rio1904_df = pd.read_csv(\"CSVs/Rio19_04.csv\")\n",
    "Rio1904_df['date'] = '04/16/2019'\n",
    "Rio1904_df['date']=pd.to_datetime(Rio1904_df['date'])\n",
    "\n",
    "Rio1904_df = Rio1904_df.drop(columns=['name', 'host_name', 'neighbourhood_group', 'number_of_reviews', 'last_review', 'reviews_per_month', 'availability_365'])\n",
    "\n",
    "Rio1904_df = Rio1904_df[ ['date'] + [ col for col in Rio1904_df.columns if col != 'date' ] ]\n",
    "\n",
    "Rio1904_df.head()"
   ]
  },
  {
   "cell_type": "code",
   "execution_count": 21,
   "metadata": {},
   "outputs": [
    {
     "output_type": "execute_result",
     "data": {
      "text/plain": "        date     id  host_id neighbourhood  latitude  longitude  \\\n0 2019-05-21  17878    68997    Copacabana -22.96592  -43.17896   \n1 2019-05-21  25026   102840    Copacabana -22.97712  -43.19045   \n2 2019-05-21  31560   135635       Ipanema -22.98302  -43.21427   \n3 2019-05-21  35636   153232       Ipanema -22.98816  -43.19359   \n4 2019-05-21  35764   153691    Copacabana -22.98127  -43.19046   \n\n         room_type  price  minimum_nights  calculated_host_listings_count  \n0  Entire home/apt    318               5                               1  \n1  Entire home/apt    159               4                               3  \n2  Entire home/apt    265               2                               1  \n3  Entire home/apt    367               2                               1  \n4  Entire home/apt    220               3                               1  ",
      "text/html": "<div>\n<style scoped>\n    .dataframe tbody tr th:only-of-type {\n        vertical-align: middle;\n    }\n\n    .dataframe tbody tr th {\n        vertical-align: top;\n    }\n\n    .dataframe thead th {\n        text-align: right;\n    }\n</style>\n<table border=\"1\" class=\"dataframe\">\n  <thead>\n    <tr style=\"text-align: right;\">\n      <th></th>\n      <th>date</th>\n      <th>id</th>\n      <th>host_id</th>\n      <th>neighbourhood</th>\n      <th>latitude</th>\n      <th>longitude</th>\n      <th>room_type</th>\n      <th>price</th>\n      <th>minimum_nights</th>\n      <th>calculated_host_listings_count</th>\n    </tr>\n  </thead>\n  <tbody>\n    <tr>\n      <td>0</td>\n      <td>2019-05-21</td>\n      <td>17878</td>\n      <td>68997</td>\n      <td>Copacabana</td>\n      <td>-22.96592</td>\n      <td>-43.17896</td>\n      <td>Entire home/apt</td>\n      <td>318</td>\n      <td>5</td>\n      <td>1</td>\n    </tr>\n    <tr>\n      <td>1</td>\n      <td>2019-05-21</td>\n      <td>25026</td>\n      <td>102840</td>\n      <td>Copacabana</td>\n      <td>-22.97712</td>\n      <td>-43.19045</td>\n      <td>Entire home/apt</td>\n      <td>159</td>\n      <td>4</td>\n      <td>3</td>\n    </tr>\n    <tr>\n      <td>2</td>\n      <td>2019-05-21</td>\n      <td>31560</td>\n      <td>135635</td>\n      <td>Ipanema</td>\n      <td>-22.98302</td>\n      <td>-43.21427</td>\n      <td>Entire home/apt</td>\n      <td>265</td>\n      <td>2</td>\n      <td>1</td>\n    </tr>\n    <tr>\n      <td>3</td>\n      <td>2019-05-21</td>\n      <td>35636</td>\n      <td>153232</td>\n      <td>Ipanema</td>\n      <td>-22.98816</td>\n      <td>-43.19359</td>\n      <td>Entire home/apt</td>\n      <td>367</td>\n      <td>2</td>\n      <td>1</td>\n    </tr>\n    <tr>\n      <td>4</td>\n      <td>2019-05-21</td>\n      <td>35764</td>\n      <td>153691</td>\n      <td>Copacabana</td>\n      <td>-22.98127</td>\n      <td>-43.19046</td>\n      <td>Entire home/apt</td>\n      <td>220</td>\n      <td>3</td>\n      <td>1</td>\n    </tr>\n  </tbody>\n</table>\n</div>"
     },
     "metadata": {},
     "execution_count": 21
    }
   ],
   "source": [
    "Rio1905_df = pd.read_csv(\"CSVs/Rio19_05.csv\")\n",
    "Rio1905_df['date'] = '05/21/2019'\n",
    "Rio1905_df['date']=pd.to_datetime(Rio1905_df['date'])\n",
    "\n",
    "Rio1905_df = Rio1905_df.drop(columns=['name', 'host_name', 'neighbourhood_group', 'number_of_reviews', 'last_review', 'reviews_per_month', 'availability_365'])\n",
    "\n",
    "Rio1905_df = Rio1905_df[ ['date'] + [ col for col in Rio1905_df.columns if col != 'date' ] ]\n",
    "\n",
    "Rio1905_df.head()"
   ]
  },
  {
   "cell_type": "code",
   "execution_count": 22,
   "metadata": {},
   "outputs": [
    {
     "output_type": "execute_result",
     "data": {
      "text/plain": "        date     id  host_id neighbourhood  latitude  longitude  \\\n0 2019-06-19  17878    68997    Copacabana -22.96592  -43.17896   \n1 2019-06-19  25026   102840    Copacabana -22.97712  -43.19045   \n2 2019-06-19  31560   135635       Ipanema -22.98302  -43.21427   \n3 2019-06-19  35636   153232       Ipanema -22.98816  -43.19359   \n4 2019-06-19  35764   153691    Copacabana -22.98127  -43.19046   \n\n         room_type  price  minimum_nights  calculated_host_listings_count  \n0  Entire home/apt    305               5                               1  \n1  Entire home/apt    158               4                               3  \n2  Entire home/apt    251               2                               1  \n3  Entire home/apt    347               2                               1  \n4  Entire home/apt    220               3                               1  ",
      "text/html": "<div>\n<style scoped>\n    .dataframe tbody tr th:only-of-type {\n        vertical-align: middle;\n    }\n\n    .dataframe tbody tr th {\n        vertical-align: top;\n    }\n\n    .dataframe thead th {\n        text-align: right;\n    }\n</style>\n<table border=\"1\" class=\"dataframe\">\n  <thead>\n    <tr style=\"text-align: right;\">\n      <th></th>\n      <th>date</th>\n      <th>id</th>\n      <th>host_id</th>\n      <th>neighbourhood</th>\n      <th>latitude</th>\n      <th>longitude</th>\n      <th>room_type</th>\n      <th>price</th>\n      <th>minimum_nights</th>\n      <th>calculated_host_listings_count</th>\n    </tr>\n  </thead>\n  <tbody>\n    <tr>\n      <td>0</td>\n      <td>2019-06-19</td>\n      <td>17878</td>\n      <td>68997</td>\n      <td>Copacabana</td>\n      <td>-22.96592</td>\n      <td>-43.17896</td>\n      <td>Entire home/apt</td>\n      <td>305</td>\n      <td>5</td>\n      <td>1</td>\n    </tr>\n    <tr>\n      <td>1</td>\n      <td>2019-06-19</td>\n      <td>25026</td>\n      <td>102840</td>\n      <td>Copacabana</td>\n      <td>-22.97712</td>\n      <td>-43.19045</td>\n      <td>Entire home/apt</td>\n      <td>158</td>\n      <td>4</td>\n      <td>3</td>\n    </tr>\n    <tr>\n      <td>2</td>\n      <td>2019-06-19</td>\n      <td>31560</td>\n      <td>135635</td>\n      <td>Ipanema</td>\n      <td>-22.98302</td>\n      <td>-43.21427</td>\n      <td>Entire home/apt</td>\n      <td>251</td>\n      <td>2</td>\n      <td>1</td>\n    </tr>\n    <tr>\n      <td>3</td>\n      <td>2019-06-19</td>\n      <td>35636</td>\n      <td>153232</td>\n      <td>Ipanema</td>\n      <td>-22.98816</td>\n      <td>-43.19359</td>\n      <td>Entire home/apt</td>\n      <td>347</td>\n      <td>2</td>\n      <td>1</td>\n    </tr>\n    <tr>\n      <td>4</td>\n      <td>2019-06-19</td>\n      <td>35764</td>\n      <td>153691</td>\n      <td>Copacabana</td>\n      <td>-22.98127</td>\n      <td>-43.19046</td>\n      <td>Entire home/apt</td>\n      <td>220</td>\n      <td>3</td>\n      <td>1</td>\n    </tr>\n  </tbody>\n</table>\n</div>"
     },
     "metadata": {},
     "execution_count": 22
    }
   ],
   "source": [
    "Rio1906_df = pd.read_csv(\"CSVs/Rio19_06.csv\")\n",
    "Rio1906_df['date'] = '06/19/2019'\n",
    "Rio1906_df['date']=pd.to_datetime(Rio1906_df['date'])\n",
    "\n",
    "Rio1906_df = Rio1906_df.drop(columns=['name', 'host_name', 'neighbourhood_group', 'number_of_reviews', 'last_review', 'reviews_per_month', 'availability_365'])\n",
    "\n",
    "Rio1906_df = Rio1906_df[ ['date'] + [ col for col in Rio1906_df.columns if col != 'date' ] ]\n",
    "\n",
    "Rio1906_df.head()"
   ]
  },
  {
   "cell_type": "code",
   "execution_count": 23,
   "metadata": {},
   "outputs": [
    {
     "output_type": "execute_result",
     "data": {
      "text/plain": "        date     id  host_id neighbourhood  latitude  longitude  \\\n0 2019-07-15  17878    68997    Copacabana -22.96592  -43.17896   \n1 2019-07-15  25026   102840    Copacabana -22.97712  -43.19045   \n2 2019-07-15  31560   135635       Ipanema -22.98302  -43.21427   \n3 2019-07-15  35636   153232       Ipanema -22.98816  -43.19359   \n4 2019-07-15  35764   153691    Copacabana -22.98127  -43.19046   \n\n         room_type  price  minimum_nights  calculated_host_listings_count  \n0  Entire home/apt    296               4                               1  \n1  Entire home/apt    161               4                               3  \n2  Entire home/apt    243               2                               1  \n3  Entire home/apt    337               2                               1  \n4  Entire home/apt    221               3                               1  ",
      "text/html": "<div>\n<style scoped>\n    .dataframe tbody tr th:only-of-type {\n        vertical-align: middle;\n    }\n\n    .dataframe tbody tr th {\n        vertical-align: top;\n    }\n\n    .dataframe thead th {\n        text-align: right;\n    }\n</style>\n<table border=\"1\" class=\"dataframe\">\n  <thead>\n    <tr style=\"text-align: right;\">\n      <th></th>\n      <th>date</th>\n      <th>id</th>\n      <th>host_id</th>\n      <th>neighbourhood</th>\n      <th>latitude</th>\n      <th>longitude</th>\n      <th>room_type</th>\n      <th>price</th>\n      <th>minimum_nights</th>\n      <th>calculated_host_listings_count</th>\n    </tr>\n  </thead>\n  <tbody>\n    <tr>\n      <td>0</td>\n      <td>2019-07-15</td>\n      <td>17878</td>\n      <td>68997</td>\n      <td>Copacabana</td>\n      <td>-22.96592</td>\n      <td>-43.17896</td>\n      <td>Entire home/apt</td>\n      <td>296</td>\n      <td>4</td>\n      <td>1</td>\n    </tr>\n    <tr>\n      <td>1</td>\n      <td>2019-07-15</td>\n      <td>25026</td>\n      <td>102840</td>\n      <td>Copacabana</td>\n      <td>-22.97712</td>\n      <td>-43.19045</td>\n      <td>Entire home/apt</td>\n      <td>161</td>\n      <td>4</td>\n      <td>3</td>\n    </tr>\n    <tr>\n      <td>2</td>\n      <td>2019-07-15</td>\n      <td>31560</td>\n      <td>135635</td>\n      <td>Ipanema</td>\n      <td>-22.98302</td>\n      <td>-43.21427</td>\n      <td>Entire home/apt</td>\n      <td>243</td>\n      <td>2</td>\n      <td>1</td>\n    </tr>\n    <tr>\n      <td>3</td>\n      <td>2019-07-15</td>\n      <td>35636</td>\n      <td>153232</td>\n      <td>Ipanema</td>\n      <td>-22.98816</td>\n      <td>-43.19359</td>\n      <td>Entire home/apt</td>\n      <td>337</td>\n      <td>2</td>\n      <td>1</td>\n    </tr>\n    <tr>\n      <td>4</td>\n      <td>2019-07-15</td>\n      <td>35764</td>\n      <td>153691</td>\n      <td>Copacabana</td>\n      <td>-22.98127</td>\n      <td>-43.19046</td>\n      <td>Entire home/apt</td>\n      <td>221</td>\n      <td>3</td>\n      <td>1</td>\n    </tr>\n  </tbody>\n</table>\n</div>"
     },
     "metadata": {},
     "execution_count": 23
    }
   ],
   "source": [
    "Rio1907_df = pd.read_csv(\"CSVs/Rio19_07.csv\")\n",
    "Rio1907_df['date'] = '07/15/2019'\n",
    "Rio1907_df['date']=pd.to_datetime(Rio1907_df['date'])\n",
    "\n",
    "Rio1907_df = Rio1907_df.drop(columns=['name', 'host_name', 'neighbourhood_group', 'number_of_reviews', 'last_review', 'reviews_per_month', 'availability_365'])\n",
    "\n",
    "Rio1907_df = Rio1907_df[ ['date'] + [ col for col in Rio1907_df.columns if col != 'date' ] ]\n",
    "\n",
    "Rio1907_df.head()"
   ]
  },
  {
   "cell_type": "code",
   "execution_count": 24,
   "metadata": {},
   "outputs": [
    {
     "output_type": "execute_result",
     "data": {
      "text/plain": "        date     id  host_id neighbourhood  latitude  longitude  \\\n0 2019-08-15  17878    68997    Copacabana -22.96592  -43.17896   \n1 2019-08-15  25026   102840    Copacabana -22.97712  -43.19045   \n2 2019-08-15  31560   135635       Ipanema -22.98302  -43.21427   \n3 2019-08-15  35636   153232       Ipanema -22.98816  -43.19359   \n4 2019-08-15  35764   153691    Copacabana -22.98127  -43.19046   \n\n         room_type  price  minimum_nights  calculated_host_listings_count  \n0  Entire home/apt    314               4                               1  \n1  Entire home/apt    159               4                               3  \n2  Entire home/apt    258               2                               1  \n3  Entire home/apt    358               2                               1  \n4  Entire home/apt    131               3                               1  ",
      "text/html": "<div>\n<style scoped>\n    .dataframe tbody tr th:only-of-type {\n        vertical-align: middle;\n    }\n\n    .dataframe tbody tr th {\n        vertical-align: top;\n    }\n\n    .dataframe thead th {\n        text-align: right;\n    }\n</style>\n<table border=\"1\" class=\"dataframe\">\n  <thead>\n    <tr style=\"text-align: right;\">\n      <th></th>\n      <th>date</th>\n      <th>id</th>\n      <th>host_id</th>\n      <th>neighbourhood</th>\n      <th>latitude</th>\n      <th>longitude</th>\n      <th>room_type</th>\n      <th>price</th>\n      <th>minimum_nights</th>\n      <th>calculated_host_listings_count</th>\n    </tr>\n  </thead>\n  <tbody>\n    <tr>\n      <td>0</td>\n      <td>2019-08-15</td>\n      <td>17878</td>\n      <td>68997</td>\n      <td>Copacabana</td>\n      <td>-22.96592</td>\n      <td>-43.17896</td>\n      <td>Entire home/apt</td>\n      <td>314</td>\n      <td>4</td>\n      <td>1</td>\n    </tr>\n    <tr>\n      <td>1</td>\n      <td>2019-08-15</td>\n      <td>25026</td>\n      <td>102840</td>\n      <td>Copacabana</td>\n      <td>-22.97712</td>\n      <td>-43.19045</td>\n      <td>Entire home/apt</td>\n      <td>159</td>\n      <td>4</td>\n      <td>3</td>\n    </tr>\n    <tr>\n      <td>2</td>\n      <td>2019-08-15</td>\n      <td>31560</td>\n      <td>135635</td>\n      <td>Ipanema</td>\n      <td>-22.98302</td>\n      <td>-43.21427</td>\n      <td>Entire home/apt</td>\n      <td>258</td>\n      <td>2</td>\n      <td>1</td>\n    </tr>\n    <tr>\n      <td>3</td>\n      <td>2019-08-15</td>\n      <td>35636</td>\n      <td>153232</td>\n      <td>Ipanema</td>\n      <td>-22.98816</td>\n      <td>-43.19359</td>\n      <td>Entire home/apt</td>\n      <td>358</td>\n      <td>2</td>\n      <td>1</td>\n    </tr>\n    <tr>\n      <td>4</td>\n      <td>2019-08-15</td>\n      <td>35764</td>\n      <td>153691</td>\n      <td>Copacabana</td>\n      <td>-22.98127</td>\n      <td>-43.19046</td>\n      <td>Entire home/apt</td>\n      <td>131</td>\n      <td>3</td>\n      <td>1</td>\n    </tr>\n  </tbody>\n</table>\n</div>"
     },
     "metadata": {},
     "execution_count": 24
    }
   ],
   "source": [
    "Rio1908_df = pd.read_csv(\"CSVs/Rio19_08.csv\")\n",
    "Rio1908_df['date'] = '08/15/2019'\n",
    "Rio1908_df['date']=pd.to_datetime(Rio1908_df['date'])\n",
    "\n",
    "Rio1908_df = Rio1908_df.drop(columns=['name', 'host_name', 'neighbourhood_group', 'number_of_reviews', 'last_review', 'reviews_per_month', 'availability_365'])\n",
    "\n",
    "Rio1908_df = Rio1908_df[ ['date'] + [ col for col in Rio1908_df.columns if col != 'date' ] ]\n",
    "\n",
    "Rio1908_df.head()"
   ]
  },
  {
   "cell_type": "code",
   "execution_count": 25,
   "metadata": {},
   "outputs": [
    {
     "output_type": "execute_result",
     "data": {
      "text/plain": "        date     id  host_id neighbourhood  latitude  longitude  \\\n0 2019-09-23  17878    68997    Copacabana -22.96592  -43.17896   \n1 2019-09-23  25026   102840    Copacabana -22.97712  -43.19045   \n2 2019-09-23  31560   135635       Ipanema -22.98302  -43.21427   \n3 2019-09-23  35636   153232       Ipanema -22.98816  -43.19359   \n4 2019-09-23  35764   153691    Copacabana -22.98127  -43.19046   \n\n         room_type  price  minimum_nights  calculated_host_listings_count  \n0  Entire home/apt    329               4                               1  \n1  Entire home/apt    158               7                               3  \n2  Entire home/apt    270               2                               1  \n3  Entire home/apt    374               2                               1  \n4  Entire home/apt    129               3                               1  ",
      "text/html": "<div>\n<style scoped>\n    .dataframe tbody tr th:only-of-type {\n        vertical-align: middle;\n    }\n\n    .dataframe tbody tr th {\n        vertical-align: top;\n    }\n\n    .dataframe thead th {\n        text-align: right;\n    }\n</style>\n<table border=\"1\" class=\"dataframe\">\n  <thead>\n    <tr style=\"text-align: right;\">\n      <th></th>\n      <th>date</th>\n      <th>id</th>\n      <th>host_id</th>\n      <th>neighbourhood</th>\n      <th>latitude</th>\n      <th>longitude</th>\n      <th>room_type</th>\n      <th>price</th>\n      <th>minimum_nights</th>\n      <th>calculated_host_listings_count</th>\n    </tr>\n  </thead>\n  <tbody>\n    <tr>\n      <td>0</td>\n      <td>2019-09-23</td>\n      <td>17878</td>\n      <td>68997</td>\n      <td>Copacabana</td>\n      <td>-22.96592</td>\n      <td>-43.17896</td>\n      <td>Entire home/apt</td>\n      <td>329</td>\n      <td>4</td>\n      <td>1</td>\n    </tr>\n    <tr>\n      <td>1</td>\n      <td>2019-09-23</td>\n      <td>25026</td>\n      <td>102840</td>\n      <td>Copacabana</td>\n      <td>-22.97712</td>\n      <td>-43.19045</td>\n      <td>Entire home/apt</td>\n      <td>158</td>\n      <td>7</td>\n      <td>3</td>\n    </tr>\n    <tr>\n      <td>2</td>\n      <td>2019-09-23</td>\n      <td>31560</td>\n      <td>135635</td>\n      <td>Ipanema</td>\n      <td>-22.98302</td>\n      <td>-43.21427</td>\n      <td>Entire home/apt</td>\n      <td>270</td>\n      <td>2</td>\n      <td>1</td>\n    </tr>\n    <tr>\n      <td>3</td>\n      <td>2019-09-23</td>\n      <td>35636</td>\n      <td>153232</td>\n      <td>Ipanema</td>\n      <td>-22.98816</td>\n      <td>-43.19359</td>\n      <td>Entire home/apt</td>\n      <td>374</td>\n      <td>2</td>\n      <td>1</td>\n    </tr>\n    <tr>\n      <td>4</td>\n      <td>2019-09-23</td>\n      <td>35764</td>\n      <td>153691</td>\n      <td>Copacabana</td>\n      <td>-22.98127</td>\n      <td>-43.19046</td>\n      <td>Entire home/apt</td>\n      <td>129</td>\n      <td>3</td>\n      <td>1</td>\n    </tr>\n  </tbody>\n</table>\n</div>"
     },
     "metadata": {},
     "execution_count": 25
    }
   ],
   "source": [
    "Rio1909_df = pd.read_csv(\"CSVs/Rio19_09.csv\")\n",
    "Rio1909_df['date'] = '09/23/2019'\n",
    "Rio1909_df['date']=pd.to_datetime(Rio1909_df['date'])\n",
    "\n",
    "Rio1909_df = Rio1909_df.drop(columns=['name', 'host_name', 'neighbourhood_group', 'number_of_reviews', 'last_review', 'reviews_per_month', 'availability_365'])\n",
    "\n",
    "Rio1909_df = Rio1909_df[ ['date'] + [ col for col in Rio1909_df.columns if col != 'date' ] ]\n",
    "\n",
    "Rio1909_df.head()"
   ]
  },
  {
   "cell_type": "code",
   "execution_count": 26,
   "metadata": {},
   "outputs": [
    {
     "output_type": "execute_result",
     "data": {
      "text/plain": "        date     id  host_id neighbourhood  latitude  longitude  \\\n0 2019-10-19  17878    68997    Copacabana -22.96592  -43.17896   \n1 2019-10-19  25026   102840    Copacabana -22.97712  -43.19045   \n2 2019-10-19  31560   135635       Ipanema -22.98302  -43.21427   \n3 2019-10-19  35636   153232       Ipanema -22.98816  -43.19359   \n4 2019-10-19  35764   153691    Copacabana -22.98127  -43.19046   \n\n         room_type  price  minimum_nights  calculated_host_listings_count  \n0  Entire home/apt    325               4                               1  \n1  Entire home/apt    162               7                               3  \n2  Entire home/apt    267               2                               1  \n3  Entire home/apt    370               2                               1  \n4  Entire home/apt    128               3                               1  ",
      "text/html": "<div>\n<style scoped>\n    .dataframe tbody tr th:only-of-type {\n        vertical-align: middle;\n    }\n\n    .dataframe tbody tr th {\n        vertical-align: top;\n    }\n\n    .dataframe thead th {\n        text-align: right;\n    }\n</style>\n<table border=\"1\" class=\"dataframe\">\n  <thead>\n    <tr style=\"text-align: right;\">\n      <th></th>\n      <th>date</th>\n      <th>id</th>\n      <th>host_id</th>\n      <th>neighbourhood</th>\n      <th>latitude</th>\n      <th>longitude</th>\n      <th>room_type</th>\n      <th>price</th>\n      <th>minimum_nights</th>\n      <th>calculated_host_listings_count</th>\n    </tr>\n  </thead>\n  <tbody>\n    <tr>\n      <td>0</td>\n      <td>2019-10-19</td>\n      <td>17878</td>\n      <td>68997</td>\n      <td>Copacabana</td>\n      <td>-22.96592</td>\n      <td>-43.17896</td>\n      <td>Entire home/apt</td>\n      <td>325</td>\n      <td>4</td>\n      <td>1</td>\n    </tr>\n    <tr>\n      <td>1</td>\n      <td>2019-10-19</td>\n      <td>25026</td>\n      <td>102840</td>\n      <td>Copacabana</td>\n      <td>-22.97712</td>\n      <td>-43.19045</td>\n      <td>Entire home/apt</td>\n      <td>162</td>\n      <td>7</td>\n      <td>3</td>\n    </tr>\n    <tr>\n      <td>2</td>\n      <td>2019-10-19</td>\n      <td>31560</td>\n      <td>135635</td>\n      <td>Ipanema</td>\n      <td>-22.98302</td>\n      <td>-43.21427</td>\n      <td>Entire home/apt</td>\n      <td>267</td>\n      <td>2</td>\n      <td>1</td>\n    </tr>\n    <tr>\n      <td>3</td>\n      <td>2019-10-19</td>\n      <td>35636</td>\n      <td>153232</td>\n      <td>Ipanema</td>\n      <td>-22.98816</td>\n      <td>-43.19359</td>\n      <td>Entire home/apt</td>\n      <td>370</td>\n      <td>2</td>\n      <td>1</td>\n    </tr>\n    <tr>\n      <td>4</td>\n      <td>2019-10-19</td>\n      <td>35764</td>\n      <td>153691</td>\n      <td>Copacabana</td>\n      <td>-22.98127</td>\n      <td>-43.19046</td>\n      <td>Entire home/apt</td>\n      <td>128</td>\n      <td>3</td>\n      <td>1</td>\n    </tr>\n  </tbody>\n</table>\n</div>"
     },
     "metadata": {},
     "execution_count": 26
    }
   ],
   "source": [
    "Rio1910_df = pd.read_csv(\"CSVs/Rio19_10.csv\")\n",
    "Rio1910_df['date'] = '10/19/2019'\n",
    "Rio1910_df['date']=pd.to_datetime(Rio1910_df['date'])\n",
    "\n",
    "Rio1910_df = Rio1910_df.drop(columns=['name', 'host_name', 'neighbourhood_group', 'number_of_reviews', 'last_review', 'reviews_per_month', 'availability_365'])\n",
    "\n",
    "Rio1910_df = Rio1910_df[ ['date'] + [ col for col in Rio1910_df.columns if col != 'date' ] ]\n",
    "\n",
    "Rio1910_df.head()"
   ]
  },
  {
   "cell_type": "code",
   "execution_count": 27,
   "metadata": {},
   "outputs": [
    {
     "output_type": "execute_result",
     "data": {
      "text/plain": "        date     id  host_id neighbourhood  latitude  longitude  \\\n0 2019-11-22  17878    68997    Copacabana -22.96592  -43.17896   \n1 2019-11-22  25026   102840    Copacabana -22.97712  -43.19045   \n2 2019-11-22  31560   135635       Ipanema -22.98302  -43.21427   \n3 2019-11-22  35636   153232       Ipanema -22.98816  -43.19359   \n4 2019-11-22  35764   153691    Copacabana -22.98127  -43.19046   \n\n         room_type  price  minimum_nights  calculated_host_listings_count  \n0  Entire home/apt    332               4                               1  \n1  Entire home/apt    160               7                               3  \n2  Entire home/apt    273               2                               1  \n3  Entire home/apt    378               2                               1  \n4  Entire home/apt    130               3                               1  ",
      "text/html": "<div>\n<style scoped>\n    .dataframe tbody tr th:only-of-type {\n        vertical-align: middle;\n    }\n\n    .dataframe tbody tr th {\n        vertical-align: top;\n    }\n\n    .dataframe thead th {\n        text-align: right;\n    }\n</style>\n<table border=\"1\" class=\"dataframe\">\n  <thead>\n    <tr style=\"text-align: right;\">\n      <th></th>\n      <th>date</th>\n      <th>id</th>\n      <th>host_id</th>\n      <th>neighbourhood</th>\n      <th>latitude</th>\n      <th>longitude</th>\n      <th>room_type</th>\n      <th>price</th>\n      <th>minimum_nights</th>\n      <th>calculated_host_listings_count</th>\n    </tr>\n  </thead>\n  <tbody>\n    <tr>\n      <td>0</td>\n      <td>2019-11-22</td>\n      <td>17878</td>\n      <td>68997</td>\n      <td>Copacabana</td>\n      <td>-22.96592</td>\n      <td>-43.17896</td>\n      <td>Entire home/apt</td>\n      <td>332</td>\n      <td>4</td>\n      <td>1</td>\n    </tr>\n    <tr>\n      <td>1</td>\n      <td>2019-11-22</td>\n      <td>25026</td>\n      <td>102840</td>\n      <td>Copacabana</td>\n      <td>-22.97712</td>\n      <td>-43.19045</td>\n      <td>Entire home/apt</td>\n      <td>160</td>\n      <td>7</td>\n      <td>3</td>\n    </tr>\n    <tr>\n      <td>2</td>\n      <td>2019-11-22</td>\n      <td>31560</td>\n      <td>135635</td>\n      <td>Ipanema</td>\n      <td>-22.98302</td>\n      <td>-43.21427</td>\n      <td>Entire home/apt</td>\n      <td>273</td>\n      <td>2</td>\n      <td>1</td>\n    </tr>\n    <tr>\n      <td>3</td>\n      <td>2019-11-22</td>\n      <td>35636</td>\n      <td>153232</td>\n      <td>Ipanema</td>\n      <td>-22.98816</td>\n      <td>-43.19359</td>\n      <td>Entire home/apt</td>\n      <td>378</td>\n      <td>2</td>\n      <td>1</td>\n    </tr>\n    <tr>\n      <td>4</td>\n      <td>2019-11-22</td>\n      <td>35764</td>\n      <td>153691</td>\n      <td>Copacabana</td>\n      <td>-22.98127</td>\n      <td>-43.19046</td>\n      <td>Entire home/apt</td>\n      <td>130</td>\n      <td>3</td>\n      <td>1</td>\n    </tr>\n  </tbody>\n</table>\n</div>"
     },
     "metadata": {},
     "execution_count": 27
    }
   ],
   "source": [
    "Rio1911_df = pd.read_csv(\"CSVs/Rio19_11.csv\")\n",
    "Rio1911_df['date'] = '11/22/2019'\n",
    "Rio1911_df['date']=pd.to_datetime(Rio1911_df['date'])\n",
    "\n",
    "Rio1911_df = Rio1911_df.drop(columns=['name', 'host_name', 'neighbourhood_group', 'number_of_reviews', 'last_review', 'reviews_per_month', 'availability_365'])\n",
    "\n",
    "Rio1911_df = Rio1911_df[ ['date'] + [ col for col in Rio1911_df.columns if col != 'date' ] ]\n",
    "\n",
    "Rio1911_df.head()"
   ]
  },
  {
   "cell_type": "code",
   "execution_count": 28,
   "metadata": {},
   "outputs": [
    {
     "output_type": "execute_result",
     "data": {
      "text/plain": "        date     id  host_id neighbourhood  latitude  longitude  \\\n0 2019-12-23  17878    68997    Copacabana -22.96592  -43.17896   \n1 2019-12-23  25026   102840    Copacabana -22.97712  -43.19045   \n2 2019-12-23  31560   135635       Ipanema -22.98302  -43.21427   \n3 2019-12-23  35636   153232       Ipanema -22.98816  -43.19359   \n4 2019-12-23  35764   153691    Copacabana -22.98127  -43.19046   \n\n         room_type  price  minimum_nights  calculated_host_listings_count  \n0  Entire home/apt    323               4                               1  \n1  Entire home/apt    159               7                               3  \n2  Entire home/apt    266               2                               1  \n3  Entire home/apt    368               2                               1  \n4  Entire home/apt    131               3                               1  ",
      "text/html": "<div>\n<style scoped>\n    .dataframe tbody tr th:only-of-type {\n        vertical-align: middle;\n    }\n\n    .dataframe tbody tr th {\n        vertical-align: top;\n    }\n\n    .dataframe thead th {\n        text-align: right;\n    }\n</style>\n<table border=\"1\" class=\"dataframe\">\n  <thead>\n    <tr style=\"text-align: right;\">\n      <th></th>\n      <th>date</th>\n      <th>id</th>\n      <th>host_id</th>\n      <th>neighbourhood</th>\n      <th>latitude</th>\n      <th>longitude</th>\n      <th>room_type</th>\n      <th>price</th>\n      <th>minimum_nights</th>\n      <th>calculated_host_listings_count</th>\n    </tr>\n  </thead>\n  <tbody>\n    <tr>\n      <td>0</td>\n      <td>2019-12-23</td>\n      <td>17878</td>\n      <td>68997</td>\n      <td>Copacabana</td>\n      <td>-22.96592</td>\n      <td>-43.17896</td>\n      <td>Entire home/apt</td>\n      <td>323</td>\n      <td>4</td>\n      <td>1</td>\n    </tr>\n    <tr>\n      <td>1</td>\n      <td>2019-12-23</td>\n      <td>25026</td>\n      <td>102840</td>\n      <td>Copacabana</td>\n      <td>-22.97712</td>\n      <td>-43.19045</td>\n      <td>Entire home/apt</td>\n      <td>159</td>\n      <td>7</td>\n      <td>3</td>\n    </tr>\n    <tr>\n      <td>2</td>\n      <td>2019-12-23</td>\n      <td>31560</td>\n      <td>135635</td>\n      <td>Ipanema</td>\n      <td>-22.98302</td>\n      <td>-43.21427</td>\n      <td>Entire home/apt</td>\n      <td>266</td>\n      <td>2</td>\n      <td>1</td>\n    </tr>\n    <tr>\n      <td>3</td>\n      <td>2019-12-23</td>\n      <td>35636</td>\n      <td>153232</td>\n      <td>Ipanema</td>\n      <td>-22.98816</td>\n      <td>-43.19359</td>\n      <td>Entire home/apt</td>\n      <td>368</td>\n      <td>2</td>\n      <td>1</td>\n    </tr>\n    <tr>\n      <td>4</td>\n      <td>2019-12-23</td>\n      <td>35764</td>\n      <td>153691</td>\n      <td>Copacabana</td>\n      <td>-22.98127</td>\n      <td>-43.19046</td>\n      <td>Entire home/apt</td>\n      <td>131</td>\n      <td>3</td>\n      <td>1</td>\n    </tr>\n  </tbody>\n</table>\n</div>"
     },
     "metadata": {},
     "execution_count": 28
    }
   ],
   "source": [
    "Rio1912_df = pd.read_csv(\"CSVs/Rio19_12.csv\")\n",
    "Rio1912_df['date'] = '12/23/2019'\n",
    "Rio1912_df['date']=pd.to_datetime(Rio1912_df['date'])\n",
    "\n",
    "Rio1912_df = Rio1912_df.drop(columns=['name', 'host_name', 'neighbourhood_group', 'number_of_reviews', 'last_review', 'reviews_per_month', 'availability_365'])\n",
    "\n",
    "Rio1912_df = Rio1912_df[ ['date'] + [ col for col in Rio1912_df.columns if col != 'date' ] ]\n",
    "\n",
    "Rio1912_df.head()"
   ]
  },
  {
   "cell_type": "code",
   "execution_count": 29,
   "metadata": {},
   "outputs": [
    {
     "output_type": "execute_result",
     "data": {
      "text/plain": "        date     id  host_id neighbourhood  latitude  longitude  \\\n0 2020-01-21  17878    68997    Copacabana -22.96592  -43.17896   \n1 2020-01-21  21280    81163       Ipanema -22.98467  -43.19611   \n2 2020-01-21  25026   102840    Copacabana -22.97712  -43.19045   \n3 2020-01-21  31560   135635       Ipanema -22.98302  -43.21427   \n4 2020-01-21  35636   153232       Ipanema -22.98816  -43.19359   \n\n         room_type  price  minimum_nights  calculated_host_listings_count  \n0  Entire home/apt    332               5                               1  \n1  Entire home/apt    336               5                               1  \n2  Entire home/apt    159               7                               3  \n3  Entire home/apt    273               2                               1  \n4  Entire home/apt    378               2                               1  ",
      "text/html": "<div>\n<style scoped>\n    .dataframe tbody tr th:only-of-type {\n        vertical-align: middle;\n    }\n\n    .dataframe tbody tr th {\n        vertical-align: top;\n    }\n\n    .dataframe thead th {\n        text-align: right;\n    }\n</style>\n<table border=\"1\" class=\"dataframe\">\n  <thead>\n    <tr style=\"text-align: right;\">\n      <th></th>\n      <th>date</th>\n      <th>id</th>\n      <th>host_id</th>\n      <th>neighbourhood</th>\n      <th>latitude</th>\n      <th>longitude</th>\n      <th>room_type</th>\n      <th>price</th>\n      <th>minimum_nights</th>\n      <th>calculated_host_listings_count</th>\n    </tr>\n  </thead>\n  <tbody>\n    <tr>\n      <td>0</td>\n      <td>2020-01-21</td>\n      <td>17878</td>\n      <td>68997</td>\n      <td>Copacabana</td>\n      <td>-22.96592</td>\n      <td>-43.17896</td>\n      <td>Entire home/apt</td>\n      <td>332</td>\n      <td>5</td>\n      <td>1</td>\n    </tr>\n    <tr>\n      <td>1</td>\n      <td>2020-01-21</td>\n      <td>21280</td>\n      <td>81163</td>\n      <td>Ipanema</td>\n      <td>-22.98467</td>\n      <td>-43.19611</td>\n      <td>Entire home/apt</td>\n      <td>336</td>\n      <td>5</td>\n      <td>1</td>\n    </tr>\n    <tr>\n      <td>2</td>\n      <td>2020-01-21</td>\n      <td>25026</td>\n      <td>102840</td>\n      <td>Copacabana</td>\n      <td>-22.97712</td>\n      <td>-43.19045</td>\n      <td>Entire home/apt</td>\n      <td>159</td>\n      <td>7</td>\n      <td>3</td>\n    </tr>\n    <tr>\n      <td>3</td>\n      <td>2020-01-21</td>\n      <td>31560</td>\n      <td>135635</td>\n      <td>Ipanema</td>\n      <td>-22.98302</td>\n      <td>-43.21427</td>\n      <td>Entire home/apt</td>\n      <td>273</td>\n      <td>2</td>\n      <td>1</td>\n    </tr>\n    <tr>\n      <td>4</td>\n      <td>2020-01-21</td>\n      <td>35636</td>\n      <td>153232</td>\n      <td>Ipanema</td>\n      <td>-22.98816</td>\n      <td>-43.19359</td>\n      <td>Entire home/apt</td>\n      <td>378</td>\n      <td>2</td>\n      <td>1</td>\n    </tr>\n  </tbody>\n</table>\n</div>"
     },
     "metadata": {},
     "execution_count": 29
    }
   ],
   "source": [
    "Rio2001_df = pd.read_csv(\"CSVs/Rio20_01.csv\")\n",
    "Rio2001_df['date'] = '01/21/2020'\n",
    "Rio2001_df['date']=pd.to_datetime(Rio2001_df['date'])\n",
    "\n",
    "Rio2001_df = Rio2001_df.drop(columns=['name', 'host_name', 'neighbourhood_group', 'number_of_reviews', 'last_review', 'reviews_per_month', 'availability_365'])\n",
    "\n",
    "Rio2001_df = Rio2001_df[ ['date'] + [ col for col in Rio2001_df.columns if col != 'date' ] ]\n",
    "\n",
    "Rio2001_df.head()"
   ]
  },
  {
   "cell_type": "code",
   "execution_count": 30,
   "metadata": {},
   "outputs": [
    {
     "output_type": "execute_result",
     "data": {
      "text/plain": "        date     id  host_id neighbourhood  latitude  longitude  \\\n0 2020-02-25  17878    68997    Copacabana -22.96592  -43.17896   \n1 2020-02-25  21280    81163       Ipanema -22.98467  -43.19611   \n2 2020-02-25  25026   102840    Copacabana -22.97712  -43.19045   \n3 2020-02-25  31560   135635       Ipanema -22.98302  -43.21427   \n4 2020-02-25  35636   153232       Ipanema -22.98816  -43.19359   \n\n         room_type  price  minimum_nights  calculated_host_listings_count  \n0  Entire home/apt    347               5                               1  \n1  Entire home/apt    351               5                               1  \n2  Entire home/apt    158               7                               3  \n3  Entire home/apt    285               2                               1  \n4  Entire home/apt    395               2                               1  ",
      "text/html": "<div>\n<style scoped>\n    .dataframe tbody tr th:only-of-type {\n        vertical-align: middle;\n    }\n\n    .dataframe tbody tr th {\n        vertical-align: top;\n    }\n\n    .dataframe thead th {\n        text-align: right;\n    }\n</style>\n<table border=\"1\" class=\"dataframe\">\n  <thead>\n    <tr style=\"text-align: right;\">\n      <th></th>\n      <th>date</th>\n      <th>id</th>\n      <th>host_id</th>\n      <th>neighbourhood</th>\n      <th>latitude</th>\n      <th>longitude</th>\n      <th>room_type</th>\n      <th>price</th>\n      <th>minimum_nights</th>\n      <th>calculated_host_listings_count</th>\n    </tr>\n  </thead>\n  <tbody>\n    <tr>\n      <td>0</td>\n      <td>2020-02-25</td>\n      <td>17878</td>\n      <td>68997</td>\n      <td>Copacabana</td>\n      <td>-22.96592</td>\n      <td>-43.17896</td>\n      <td>Entire home/apt</td>\n      <td>347</td>\n      <td>5</td>\n      <td>1</td>\n    </tr>\n    <tr>\n      <td>1</td>\n      <td>2020-02-25</td>\n      <td>21280</td>\n      <td>81163</td>\n      <td>Ipanema</td>\n      <td>-22.98467</td>\n      <td>-43.19611</td>\n      <td>Entire home/apt</td>\n      <td>351</td>\n      <td>5</td>\n      <td>1</td>\n    </tr>\n    <tr>\n      <td>2</td>\n      <td>2020-02-25</td>\n      <td>25026</td>\n      <td>102840</td>\n      <td>Copacabana</td>\n      <td>-22.97712</td>\n      <td>-43.19045</td>\n      <td>Entire home/apt</td>\n      <td>158</td>\n      <td>7</td>\n      <td>3</td>\n    </tr>\n    <tr>\n      <td>3</td>\n      <td>2020-02-25</td>\n      <td>31560</td>\n      <td>135635</td>\n      <td>Ipanema</td>\n      <td>-22.98302</td>\n      <td>-43.21427</td>\n      <td>Entire home/apt</td>\n      <td>285</td>\n      <td>2</td>\n      <td>1</td>\n    </tr>\n    <tr>\n      <td>4</td>\n      <td>2020-02-25</td>\n      <td>35636</td>\n      <td>153232</td>\n      <td>Ipanema</td>\n      <td>-22.98816</td>\n      <td>-43.19359</td>\n      <td>Entire home/apt</td>\n      <td>395</td>\n      <td>2</td>\n      <td>1</td>\n    </tr>\n  </tbody>\n</table>\n</div>"
     },
     "metadata": {},
     "execution_count": 30
    }
   ],
   "source": [
    "Rio2002_df = pd.read_csv(\"CSVs/Rio20_02.csv\")\n",
    "Rio2002_df['date'] = '02/25/2020'\n",
    "Rio2002_df['date']=pd.to_datetime(Rio2002_df['date'])\n",
    "\n",
    "Rio2002_df = Rio2002_df.drop(columns=['name', 'host_name', 'neighbourhood_group', 'number_of_reviews', 'last_review', 'reviews_per_month', 'availability_365'])\n",
    "\n",
    "Rio2002_df = Rio2002_df[ ['date'] + [ col for col in Rio2002_df.columns if col != 'date' ] ]\n",
    "\n",
    "Rio2002_df.head()"
   ]
  },
  {
   "cell_type": "code",
   "execution_count": 31,
   "metadata": {},
   "outputs": [
    {
     "output_type": "execute_result",
     "data": {
      "text/plain": "        date     id  host_id neighbourhood  latitude  longitude  \\\n0 2020-03-18  17878    68997    Copacabana -22.96592  -43.17896   \n1 2020-03-18  21280    81163       Ipanema -22.98467  -43.19611   \n2 2020-03-18  25026   102840    Copacabana -22.97712  -43.19045   \n3 2020-03-18  31560   135635       Ipanema -22.98302  -43.21427   \n4 2020-03-18  35636   153232       Ipanema -22.98816  -43.19359   \n\n         room_type  price  minimum_nights  calculated_host_listings_count  \n0  Entire home/apt    289               5                               1  \n1  Entire home/apt    406               5                               1  \n2  Entire home/apt    162               7                               3  \n3  Entire home/apt    330               2                               1  \n4  Entire home/apt    457               2                               1  ",
      "text/html": "<div>\n<style scoped>\n    .dataframe tbody tr th:only-of-type {\n        vertical-align: middle;\n    }\n\n    .dataframe tbody tr th {\n        vertical-align: top;\n    }\n\n    .dataframe thead th {\n        text-align: right;\n    }\n</style>\n<table border=\"1\" class=\"dataframe\">\n  <thead>\n    <tr style=\"text-align: right;\">\n      <th></th>\n      <th>date</th>\n      <th>id</th>\n      <th>host_id</th>\n      <th>neighbourhood</th>\n      <th>latitude</th>\n      <th>longitude</th>\n      <th>room_type</th>\n      <th>price</th>\n      <th>minimum_nights</th>\n      <th>calculated_host_listings_count</th>\n    </tr>\n  </thead>\n  <tbody>\n    <tr>\n      <td>0</td>\n      <td>2020-03-18</td>\n      <td>17878</td>\n      <td>68997</td>\n      <td>Copacabana</td>\n      <td>-22.96592</td>\n      <td>-43.17896</td>\n      <td>Entire home/apt</td>\n      <td>289</td>\n      <td>5</td>\n      <td>1</td>\n    </tr>\n    <tr>\n      <td>1</td>\n      <td>2020-03-18</td>\n      <td>21280</td>\n      <td>81163</td>\n      <td>Ipanema</td>\n      <td>-22.98467</td>\n      <td>-43.19611</td>\n      <td>Entire home/apt</td>\n      <td>406</td>\n      <td>5</td>\n      <td>1</td>\n    </tr>\n    <tr>\n      <td>2</td>\n      <td>2020-03-18</td>\n      <td>25026</td>\n      <td>102840</td>\n      <td>Copacabana</td>\n      <td>-22.97712</td>\n      <td>-43.19045</td>\n      <td>Entire home/apt</td>\n      <td>162</td>\n      <td>7</td>\n      <td>3</td>\n    </tr>\n    <tr>\n      <td>3</td>\n      <td>2020-03-18</td>\n      <td>31560</td>\n      <td>135635</td>\n      <td>Ipanema</td>\n      <td>-22.98302</td>\n      <td>-43.21427</td>\n      <td>Entire home/apt</td>\n      <td>330</td>\n      <td>2</td>\n      <td>1</td>\n    </tr>\n    <tr>\n      <td>4</td>\n      <td>2020-03-18</td>\n      <td>35636</td>\n      <td>153232</td>\n      <td>Ipanema</td>\n      <td>-22.98816</td>\n      <td>-43.19359</td>\n      <td>Entire home/apt</td>\n      <td>457</td>\n      <td>2</td>\n      <td>1</td>\n    </tr>\n  </tbody>\n</table>\n</div>"
     },
     "metadata": {},
     "execution_count": 31
    }
   ],
   "source": [
    "Rio2003_df = pd.read_csv(\"CSVs/Rio20_03.csv\")\n",
    "Rio2003_df['date'] = '03/18/2020'\n",
    "Rio2003_df['date']=pd.to_datetime(Rio2003_df['date'])\n",
    "\n",
    "Rio2003_df = Rio2003_df.drop(columns=['name', 'host_name', 'neighbourhood_group', 'number_of_reviews', 'last_review', 'reviews_per_month', 'availability_365'])\n",
    "\n",
    "Rio2003_df = Rio2003_df[ ['date'] + [ col for col in Rio2003_df.columns if col != 'date' ] ]\n",
    "\n",
    "Rio2003_df.head()"
   ]
  },
  {
   "cell_type": "code",
   "execution_count": 32,
   "metadata": {},
   "outputs": [
    {
     "output_type": "execute_result",
     "data": {
      "text/plain": "        date     id  host_id neighbourhood  latitude  longitude  \\\n0 2020-04-20  17878    68997    Copacabana -22.96592  -43.17896   \n1 2020-04-20  21280    81163       Ipanema -22.98467  -43.19611   \n2 2020-04-20  25026   102840    Copacabana -22.97712  -43.19045   \n3 2020-04-20  31560   135635       Ipanema -22.98302  -43.21427   \n4 2020-04-20  35636   153232       Ipanema -22.98816  -43.19359   \n\n         room_type  price  minimum_nights  calculated_host_listings_count  \n0  Entire home/apt    218               5                               1  \n1  Entire home/apt    422               5                               1  \n2  Entire home/apt    158               7                               3  \n3  Entire home/apt    342               2                               1  \n4  Entire home/apt    479               2                               1  ",
      "text/html": "<div>\n<style scoped>\n    .dataframe tbody tr th:only-of-type {\n        vertical-align: middle;\n    }\n\n    .dataframe tbody tr th {\n        vertical-align: top;\n    }\n\n    .dataframe thead th {\n        text-align: right;\n    }\n</style>\n<table border=\"1\" class=\"dataframe\">\n  <thead>\n    <tr style=\"text-align: right;\">\n      <th></th>\n      <th>date</th>\n      <th>id</th>\n      <th>host_id</th>\n      <th>neighbourhood</th>\n      <th>latitude</th>\n      <th>longitude</th>\n      <th>room_type</th>\n      <th>price</th>\n      <th>minimum_nights</th>\n      <th>calculated_host_listings_count</th>\n    </tr>\n  </thead>\n  <tbody>\n    <tr>\n      <td>0</td>\n      <td>2020-04-20</td>\n      <td>17878</td>\n      <td>68997</td>\n      <td>Copacabana</td>\n      <td>-22.96592</td>\n      <td>-43.17896</td>\n      <td>Entire home/apt</td>\n      <td>218</td>\n      <td>5</td>\n      <td>1</td>\n    </tr>\n    <tr>\n      <td>1</td>\n      <td>2020-04-20</td>\n      <td>21280</td>\n      <td>81163</td>\n      <td>Ipanema</td>\n      <td>-22.98467</td>\n      <td>-43.19611</td>\n      <td>Entire home/apt</td>\n      <td>422</td>\n      <td>5</td>\n      <td>1</td>\n    </tr>\n    <tr>\n      <td>2</td>\n      <td>2020-04-20</td>\n      <td>25026</td>\n      <td>102840</td>\n      <td>Copacabana</td>\n      <td>-22.97712</td>\n      <td>-43.19045</td>\n      <td>Entire home/apt</td>\n      <td>158</td>\n      <td>7</td>\n      <td>3</td>\n    </tr>\n    <tr>\n      <td>3</td>\n      <td>2020-04-20</td>\n      <td>31560</td>\n      <td>135635</td>\n      <td>Ipanema</td>\n      <td>-22.98302</td>\n      <td>-43.21427</td>\n      <td>Entire home/apt</td>\n      <td>342</td>\n      <td>2</td>\n      <td>1</td>\n    </tr>\n    <tr>\n      <td>4</td>\n      <td>2020-04-20</td>\n      <td>35636</td>\n      <td>153232</td>\n      <td>Ipanema</td>\n      <td>-22.98816</td>\n      <td>-43.19359</td>\n      <td>Entire home/apt</td>\n      <td>479</td>\n      <td>2</td>\n      <td>1</td>\n    </tr>\n  </tbody>\n</table>\n</div>"
     },
     "metadata": {},
     "execution_count": 32
    }
   ],
   "source": [
    "Rio2004_df = pd.read_csv(\"CSVs/Rio20_04.csv\")\n",
    "Rio2004_df['date'] = '04/20/2020'\n",
    "Rio2004_df['date']=pd.to_datetime(Rio2004_df['date'])\n",
    "\n",
    "Rio2004_df = Rio2004_df.drop(columns=['name', 'host_name', 'neighbourhood_group', 'number_of_reviews', 'last_review', 'reviews_per_month', 'availability_365'])\n",
    "\n",
    "Rio2004_df = Rio2004_df[ ['date'] + [ col for col in Rio2004_df.columns if col != 'date' ] ]\n",
    "\n",
    "Rio2004_df.head()"
   ]
  },
  {
   "cell_type": "code",
   "execution_count": 33,
   "metadata": {},
   "outputs": [
    {
     "output_type": "execute_result",
     "data": {
      "text/plain": "        date     id  host_id neighbourhood  latitude  longitude  \\\n0 2020-05-24  17878    68997    Copacabana -22.96592  -43.17896   \n1 2020-05-24  21280    81163       Ipanema -22.98467  -43.19611   \n2 2020-05-24  25026   102840    Copacabana -22.97712  -43.19045   \n3 2020-05-24  31560   135635       Ipanema -22.98302  -43.21427   \n4 2020-05-24  35636   153232       Ipanema -22.98816  -43.19359   \n\n         room_type  price  minimum_nights  calculated_host_listings_count  \n0  Entire home/apt    188               7                               1  \n1  Entire home/apt    442               5                               1  \n2  Entire home/apt    160               7                               3  \n3  Entire home/apt    359               2                               1  \n4  Entire home/apt    495               2                               1  ",
      "text/html": "<div>\n<style scoped>\n    .dataframe tbody tr th:only-of-type {\n        vertical-align: middle;\n    }\n\n    .dataframe tbody tr th {\n        vertical-align: top;\n    }\n\n    .dataframe thead th {\n        text-align: right;\n    }\n</style>\n<table border=\"1\" class=\"dataframe\">\n  <thead>\n    <tr style=\"text-align: right;\">\n      <th></th>\n      <th>date</th>\n      <th>id</th>\n      <th>host_id</th>\n      <th>neighbourhood</th>\n      <th>latitude</th>\n      <th>longitude</th>\n      <th>room_type</th>\n      <th>price</th>\n      <th>minimum_nights</th>\n      <th>calculated_host_listings_count</th>\n    </tr>\n  </thead>\n  <tbody>\n    <tr>\n      <td>0</td>\n      <td>2020-05-24</td>\n      <td>17878</td>\n      <td>68997</td>\n      <td>Copacabana</td>\n      <td>-22.96592</td>\n      <td>-43.17896</td>\n      <td>Entire home/apt</td>\n      <td>188</td>\n      <td>7</td>\n      <td>1</td>\n    </tr>\n    <tr>\n      <td>1</td>\n      <td>2020-05-24</td>\n      <td>21280</td>\n      <td>81163</td>\n      <td>Ipanema</td>\n      <td>-22.98467</td>\n      <td>-43.19611</td>\n      <td>Entire home/apt</td>\n      <td>442</td>\n      <td>5</td>\n      <td>1</td>\n    </tr>\n    <tr>\n      <td>2</td>\n      <td>2020-05-24</td>\n      <td>25026</td>\n      <td>102840</td>\n      <td>Copacabana</td>\n      <td>-22.97712</td>\n      <td>-43.19045</td>\n      <td>Entire home/apt</td>\n      <td>160</td>\n      <td>7</td>\n      <td>3</td>\n    </tr>\n    <tr>\n      <td>3</td>\n      <td>2020-05-24</td>\n      <td>31560</td>\n      <td>135635</td>\n      <td>Ipanema</td>\n      <td>-22.98302</td>\n      <td>-43.21427</td>\n      <td>Entire home/apt</td>\n      <td>359</td>\n      <td>2</td>\n      <td>1</td>\n    </tr>\n    <tr>\n      <td>4</td>\n      <td>2020-05-24</td>\n      <td>35636</td>\n      <td>153232</td>\n      <td>Ipanema</td>\n      <td>-22.98816</td>\n      <td>-43.19359</td>\n      <td>Entire home/apt</td>\n      <td>495</td>\n      <td>2</td>\n      <td>1</td>\n    </tr>\n  </tbody>\n</table>\n</div>"
     },
     "metadata": {},
     "execution_count": 33
    }
   ],
   "source": [
    "Rio2005_df = pd.read_csv(\"CSVs/Rio20_05.csv\")\n",
    "Rio2005_df['date'] = '05/24/2020'\n",
    "Rio2005_df['date']=pd.to_datetime(Rio2005_df['date'])\n",
    "\n",
    "Rio2005_df = Rio2005_df.drop(columns=['name', 'host_name', 'neighbourhood_group', 'number_of_reviews', 'last_review', 'reviews_per_month', 'availability_365'])\n",
    "\n",
    "Rio2005_df = Rio2005_df[ ['date'] + [ col for col in Rio2005_df.columns if col != 'date' ] ]\n",
    "\n",
    "Rio2005_df.head()"
   ]
  },
  {
   "cell_type": "code",
   "execution_count": 34,
   "metadata": {},
   "outputs": [],
   "source": [
    "year1 = [Rio1805_df, Rio1807_df, Rio1808_df, Rio1809_df, Rio1810_df, Rio1811_df, Rio1812_df, Rio1901_df, Rio1902_df,Rio1903_df, Rio1904_df]\n",
    "\n",
    "year2 = [Rio1905_df, Rio1906_df, Rio1907_df, Rio1908_df, Rio1909_df, Rio1910_df, Rio1911_df, Rio1912_df, Rio2001_df, Rio2002_df, Rio2003_df, Rio2004_df]"
   ]
  },
  {
   "cell_type": "code",
   "execution_count": 35,
   "metadata": {},
   "outputs": [
    {
     "output_type": "execute_result",
     "data": {
      "text/plain": "        date     id  host_id neighbourhood   latitude  longitude  \\\n0 2018-05-17  14063    53598      Botafogo -22.946854 -43.182737   \n1 2018-05-17  17878    68997    Copacabana -22.965919 -43.178962   \n2 2018-05-17  24480    99249       Ipanema -22.985698 -43.201935   \n3 2018-05-17  25026   102840    Copacabana -22.977117 -43.190454   \n4 2018-05-17  31560   135635       Ipanema -22.983024 -43.214270   \n\n         room_type  price  minimum_nights  calculated_host_listings_count  \n0  Entire home/apt    143              60                               1  \n1  Entire home/apt    290               4                               1  \n2  Entire home/apt    231               3                               1  \n3  Entire home/apt    158               4                               3  \n4  Entire home/apt    238               2                               1  ",
      "text/html": "<div>\n<style scoped>\n    .dataframe tbody tr th:only-of-type {\n        vertical-align: middle;\n    }\n\n    .dataframe tbody tr th {\n        vertical-align: top;\n    }\n\n    .dataframe thead th {\n        text-align: right;\n    }\n</style>\n<table border=\"1\" class=\"dataframe\">\n  <thead>\n    <tr style=\"text-align: right;\">\n      <th></th>\n      <th>date</th>\n      <th>id</th>\n      <th>host_id</th>\n      <th>neighbourhood</th>\n      <th>latitude</th>\n      <th>longitude</th>\n      <th>room_type</th>\n      <th>price</th>\n      <th>minimum_nights</th>\n      <th>calculated_host_listings_count</th>\n    </tr>\n  </thead>\n  <tbody>\n    <tr>\n      <td>0</td>\n      <td>2018-05-17</td>\n      <td>14063</td>\n      <td>53598</td>\n      <td>Botafogo</td>\n      <td>-22.946854</td>\n      <td>-43.182737</td>\n      <td>Entire home/apt</td>\n      <td>143</td>\n      <td>60</td>\n      <td>1</td>\n    </tr>\n    <tr>\n      <td>1</td>\n      <td>2018-05-17</td>\n      <td>17878</td>\n      <td>68997</td>\n      <td>Copacabana</td>\n      <td>-22.965919</td>\n      <td>-43.178962</td>\n      <td>Entire home/apt</td>\n      <td>290</td>\n      <td>4</td>\n      <td>1</td>\n    </tr>\n    <tr>\n      <td>2</td>\n      <td>2018-05-17</td>\n      <td>24480</td>\n      <td>99249</td>\n      <td>Ipanema</td>\n      <td>-22.985698</td>\n      <td>-43.201935</td>\n      <td>Entire home/apt</td>\n      <td>231</td>\n      <td>3</td>\n      <td>1</td>\n    </tr>\n    <tr>\n      <td>3</td>\n      <td>2018-05-17</td>\n      <td>25026</td>\n      <td>102840</td>\n      <td>Copacabana</td>\n      <td>-22.977117</td>\n      <td>-43.190454</td>\n      <td>Entire home/apt</td>\n      <td>158</td>\n      <td>4</td>\n      <td>3</td>\n    </tr>\n    <tr>\n      <td>4</td>\n      <td>2018-05-17</td>\n      <td>31560</td>\n      <td>135635</td>\n      <td>Ipanema</td>\n      <td>-22.983024</td>\n      <td>-43.214270</td>\n      <td>Entire home/apt</td>\n      <td>238</td>\n      <td>2</td>\n      <td>1</td>\n    </tr>\n  </tbody>\n</table>\n</div>"
     },
     "metadata": {},
     "execution_count": 35
    }
   ],
   "source": [
    "Rioy1_df = pd.concat(year1)\n",
    "\n",
    "Rioy1_df.head()"
   ]
  },
  {
   "cell_type": "code",
   "execution_count": 36,
   "metadata": {},
   "outputs": [
    {
     "output_type": "execute_result",
     "data": {
      "text/plain": "            date        id    host_id             neighbourhood  latitude  \\\n36094 2019-04-16  33915334  232978078                  Botafogo -22.96037   \n36095 2019-04-16  33915793  230248024                Copacabana -22.96679   \n36096 2019-04-16  33915844  193486288  Recreio dos Bandeirantes -23.00788   \n36097 2019-04-16  33924654   71459951                Copacabana -22.96687   \n36098 2019-04-16  33932038   13272749           Barra da Tijuca -23.00489   \n\n       longitude        room_type  price  minimum_nights  \\\n36094  -43.19567  Entire home/apt    350               3   \n36095  -43.18816     Private room    120               1   \n36096  -43.45618     Private room    179               1   \n36097  -43.19085     Private room    109               1   \n36098  -43.32671     Private room    330               3   \n\n       calculated_host_listings_count  \n36094                               1  \n36095                               1  \n36096                               1  \n36097                               1  \n36098                               5  ",
      "text/html": "<div>\n<style scoped>\n    .dataframe tbody tr th:only-of-type {\n        vertical-align: middle;\n    }\n\n    .dataframe tbody tr th {\n        vertical-align: top;\n    }\n\n    .dataframe thead th {\n        text-align: right;\n    }\n</style>\n<table border=\"1\" class=\"dataframe\">\n  <thead>\n    <tr style=\"text-align: right;\">\n      <th></th>\n      <th>date</th>\n      <th>id</th>\n      <th>host_id</th>\n      <th>neighbourhood</th>\n      <th>latitude</th>\n      <th>longitude</th>\n      <th>room_type</th>\n      <th>price</th>\n      <th>minimum_nights</th>\n      <th>calculated_host_listings_count</th>\n    </tr>\n  </thead>\n  <tbody>\n    <tr>\n      <td>36094</td>\n      <td>2019-04-16</td>\n      <td>33915334</td>\n      <td>232978078</td>\n      <td>Botafogo</td>\n      <td>-22.96037</td>\n      <td>-43.19567</td>\n      <td>Entire home/apt</td>\n      <td>350</td>\n      <td>3</td>\n      <td>1</td>\n    </tr>\n    <tr>\n      <td>36095</td>\n      <td>2019-04-16</td>\n      <td>33915793</td>\n      <td>230248024</td>\n      <td>Copacabana</td>\n      <td>-22.96679</td>\n      <td>-43.18816</td>\n      <td>Private room</td>\n      <td>120</td>\n      <td>1</td>\n      <td>1</td>\n    </tr>\n    <tr>\n      <td>36096</td>\n      <td>2019-04-16</td>\n      <td>33915844</td>\n      <td>193486288</td>\n      <td>Recreio dos Bandeirantes</td>\n      <td>-23.00788</td>\n      <td>-43.45618</td>\n      <td>Private room</td>\n      <td>179</td>\n      <td>1</td>\n      <td>1</td>\n    </tr>\n    <tr>\n      <td>36097</td>\n      <td>2019-04-16</td>\n      <td>33924654</td>\n      <td>71459951</td>\n      <td>Copacabana</td>\n      <td>-22.96687</td>\n      <td>-43.19085</td>\n      <td>Private room</td>\n      <td>109</td>\n      <td>1</td>\n      <td>1</td>\n    </tr>\n    <tr>\n      <td>36098</td>\n      <td>2019-04-16</td>\n      <td>33932038</td>\n      <td>13272749</td>\n      <td>Barra da Tijuca</td>\n      <td>-23.00489</td>\n      <td>-43.32671</td>\n      <td>Private room</td>\n      <td>330</td>\n      <td>3</td>\n      <td>5</td>\n    </tr>\n  </tbody>\n</table>\n</div>"
     },
     "metadata": {},
     "execution_count": 36
    }
   ],
   "source": [
    "Rioy1_df.tail()"
   ]
  },
  {
   "cell_type": "code",
   "execution_count": 37,
   "metadata": {},
   "outputs": [
    {
     "output_type": "execute_result",
     "data": {
      "text/plain": "        date     id  host_id neighbourhood  latitude  longitude  \\\n0 2019-05-21  17878    68997    Copacabana -22.96592  -43.17896   \n1 2019-05-21  25026   102840    Copacabana -22.97712  -43.19045   \n2 2019-05-21  31560   135635       Ipanema -22.98302  -43.21427   \n3 2019-05-21  35636   153232       Ipanema -22.98816  -43.19359   \n4 2019-05-21  35764   153691    Copacabana -22.98127  -43.19046   \n\n         room_type  price  minimum_nights  calculated_host_listings_count  \n0  Entire home/apt    318               5                               1  \n1  Entire home/apt    159               4                               3  \n2  Entire home/apt    265               2                               1  \n3  Entire home/apt    367               2                               1  \n4  Entire home/apt    220               3                               1  ",
      "text/html": "<div>\n<style scoped>\n    .dataframe tbody tr th:only-of-type {\n        vertical-align: middle;\n    }\n\n    .dataframe tbody tr th {\n        vertical-align: top;\n    }\n\n    .dataframe thead th {\n        text-align: right;\n    }\n</style>\n<table border=\"1\" class=\"dataframe\">\n  <thead>\n    <tr style=\"text-align: right;\">\n      <th></th>\n      <th>date</th>\n      <th>id</th>\n      <th>host_id</th>\n      <th>neighbourhood</th>\n      <th>latitude</th>\n      <th>longitude</th>\n      <th>room_type</th>\n      <th>price</th>\n      <th>minimum_nights</th>\n      <th>calculated_host_listings_count</th>\n    </tr>\n  </thead>\n  <tbody>\n    <tr>\n      <td>0</td>\n      <td>2019-05-21</td>\n      <td>17878</td>\n      <td>68997</td>\n      <td>Copacabana</td>\n      <td>-22.96592</td>\n      <td>-43.17896</td>\n      <td>Entire home/apt</td>\n      <td>318</td>\n      <td>5</td>\n      <td>1</td>\n    </tr>\n    <tr>\n      <td>1</td>\n      <td>2019-05-21</td>\n      <td>25026</td>\n      <td>102840</td>\n      <td>Copacabana</td>\n      <td>-22.97712</td>\n      <td>-43.19045</td>\n      <td>Entire home/apt</td>\n      <td>159</td>\n      <td>4</td>\n      <td>3</td>\n    </tr>\n    <tr>\n      <td>2</td>\n      <td>2019-05-21</td>\n      <td>31560</td>\n      <td>135635</td>\n      <td>Ipanema</td>\n      <td>-22.98302</td>\n      <td>-43.21427</td>\n      <td>Entire home/apt</td>\n      <td>265</td>\n      <td>2</td>\n      <td>1</td>\n    </tr>\n    <tr>\n      <td>3</td>\n      <td>2019-05-21</td>\n      <td>35636</td>\n      <td>153232</td>\n      <td>Ipanema</td>\n      <td>-22.98816</td>\n      <td>-43.19359</td>\n      <td>Entire home/apt</td>\n      <td>367</td>\n      <td>2</td>\n      <td>1</td>\n    </tr>\n    <tr>\n      <td>4</td>\n      <td>2019-05-21</td>\n      <td>35764</td>\n      <td>153691</td>\n      <td>Copacabana</td>\n      <td>-22.98127</td>\n      <td>-43.19046</td>\n      <td>Entire home/apt</td>\n      <td>220</td>\n      <td>3</td>\n      <td>1</td>\n    </tr>\n  </tbody>\n</table>\n</div>"
     },
     "metadata": {},
     "execution_count": 37
    }
   ],
   "source": [
    "Rioy2_df = pd.concat(year2)\n",
    "\n",
    "Rioy2_df.head()"
   ]
  },
  {
   "cell_type": "code",
   "execution_count": 38,
   "metadata": {},
   "outputs": [
    {
     "output_type": "execute_result",
     "data": {
      "text/plain": "            date        id    host_id    neighbourhood  latitude  longitude  \\\n35865 2020-04-20  43222409   27531233        Itanhangá -22.98356  -43.30366   \n35866 2020-04-20  43222788   62913860          Ipanema -22.98526  -43.19385   \n35867 2020-04-20  43222989  128128458       Copacabana -22.97516  -43.19261   \n35868 2020-04-20  43223062  344170057             Leme -22.96379  -43.17193   \n35869 2020-04-20  43227835  125684729  Barra da Tijuca -22.97738  -43.37373   \n\n             room_type  price  minimum_nights  calculated_host_listings_count  \n35865     Private room     64               2                               5  \n35866     Private room     68              28                               1  \n35867  Entire home/apt    248               3                               2  \n35868  Entire home/apt    121               2                               1  \n35869     Private room    250               1                               2  ",
      "text/html": "<div>\n<style scoped>\n    .dataframe tbody tr th:only-of-type {\n        vertical-align: middle;\n    }\n\n    .dataframe tbody tr th {\n        vertical-align: top;\n    }\n\n    .dataframe thead th {\n        text-align: right;\n    }\n</style>\n<table border=\"1\" class=\"dataframe\">\n  <thead>\n    <tr style=\"text-align: right;\">\n      <th></th>\n      <th>date</th>\n      <th>id</th>\n      <th>host_id</th>\n      <th>neighbourhood</th>\n      <th>latitude</th>\n      <th>longitude</th>\n      <th>room_type</th>\n      <th>price</th>\n      <th>minimum_nights</th>\n      <th>calculated_host_listings_count</th>\n    </tr>\n  </thead>\n  <tbody>\n    <tr>\n      <td>35865</td>\n      <td>2020-04-20</td>\n      <td>43222409</td>\n      <td>27531233</td>\n      <td>Itanhangá</td>\n      <td>-22.98356</td>\n      <td>-43.30366</td>\n      <td>Private room</td>\n      <td>64</td>\n      <td>2</td>\n      <td>5</td>\n    </tr>\n    <tr>\n      <td>35866</td>\n      <td>2020-04-20</td>\n      <td>43222788</td>\n      <td>62913860</td>\n      <td>Ipanema</td>\n      <td>-22.98526</td>\n      <td>-43.19385</td>\n      <td>Private room</td>\n      <td>68</td>\n      <td>28</td>\n      <td>1</td>\n    </tr>\n    <tr>\n      <td>35867</td>\n      <td>2020-04-20</td>\n      <td>43222989</td>\n      <td>128128458</td>\n      <td>Copacabana</td>\n      <td>-22.97516</td>\n      <td>-43.19261</td>\n      <td>Entire home/apt</td>\n      <td>248</td>\n      <td>3</td>\n      <td>2</td>\n    </tr>\n    <tr>\n      <td>35868</td>\n      <td>2020-04-20</td>\n      <td>43223062</td>\n      <td>344170057</td>\n      <td>Leme</td>\n      <td>-22.96379</td>\n      <td>-43.17193</td>\n      <td>Entire home/apt</td>\n      <td>121</td>\n      <td>2</td>\n      <td>1</td>\n    </tr>\n    <tr>\n      <td>35869</td>\n      <td>2020-04-20</td>\n      <td>43227835</td>\n      <td>125684729</td>\n      <td>Barra da Tijuca</td>\n      <td>-22.97738</td>\n      <td>-43.37373</td>\n      <td>Private room</td>\n      <td>250</td>\n      <td>1</td>\n      <td>2</td>\n    </tr>\n  </tbody>\n</table>\n</div>"
     },
     "metadata": {},
     "execution_count": 38
    }
   ],
   "source": [
    "Rioy2_df.tail()"
   ]
  },
  {
   "cell_type": "code",
   "execution_count": 39,
   "metadata": {},
   "outputs": [],
   "source": [
    "Rioy1_df.to_csv('Rio_May18April19.csv')"
   ]
  },
  {
   "cell_type": "code",
   "execution_count": 40,
   "metadata": {},
   "outputs": [],
   "source": [
    "Rioy2_df.to_csv('Rio_May19April20.csv')"
   ]
  },
  {
   "cell_type": "code",
   "execution_count": null,
   "metadata": {},
   "outputs": [],
   "source": []
  }
 ]
}